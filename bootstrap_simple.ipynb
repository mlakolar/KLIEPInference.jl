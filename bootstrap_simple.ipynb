{
 "cells": [
  {
   "cell_type": "code",
   "execution_count": 25,
   "metadata": {},
   "outputs": [
    {
     "ename": "ArgumentError",
     "evalue": "ArgumentError: Package Iterators not found in current path:\n- Run `import Pkg; Pkg.add(\"Iterators\")` to install the Iterators package.\n",
     "output_type": "error",
     "traceback": [
      "ArgumentError: Package Iterators not found in current path:\n- Run `import Pkg; Pkg.add(\"Iterators\")` to install the Iterators package.\n",
      "",
      "Stacktrace:",
      " [1] require(::Module, ::Symbol) at ./loading.jl:820",
      " [2] top-level scope at In[25]:5"
     ]
    }
   ],
   "source": [
    "using Revise\n",
    "using KLIEPInference\n",
    "using Distributions\n",
    "using LinearAlgebra\n",
    "using StatsBase, Statistics"
   ]
  },
  {
   "cell_type": "code",
   "execution_count": 8,
   "metadata": {},
   "outputs": [],
   "source": [
    "θ = zeros(5, 5)\n",
    "spl = IsingSampler(θ)"
   ]
  },
  {
   "cell_type": "code",
   "execution_count": 35,
   "metadata": {},
   "outputs": [
    {
     "data": {
      "text/plain": [
       "467"
      ]
     },
     "execution_count": 35,
     "metadata": {},
     "output_type": "execute_result"
    }
   ],
   "source": [
    "NUM_REP = 500\n",
    "coverage = 0\n",
    "Δ = zeros(10)\n",
    "\n",
    "for rep=1:NUM_REP\n",
    "    X = rand(spl, 400)\n",
    "    Y = rand(spl, 600)\n",
    "    Ψx = Ψising(X)\n",
    "    Ψy = Ψising(Y);\n",
    "    \n",
    "    straps = boot_KLIEP(Ψx, Ψy)\n",
    "    CI = simulCI(straps)\n",
    "    coverage += all(Δ .<= CI[:, 2]) * all(Δ .>= CI[:, 1]) ? 1 : 0\n",
    "end\n",
    "coverage"
   ]
  },
  {
   "cell_type": "code",
   "execution_count": 36,
   "metadata": {},
   "outputs": [
    {
     "data": {
      "text/plain": [
       "0.934"
      ]
     },
     "execution_count": 36,
     "metadata": {},
     "output_type": "execute_result"
    }
   ],
   "source": [
    "coverage / NUM_REP"
   ]
  },
  {
   "cell_type": "code",
   "execution_count": 45,
   "metadata": {},
   "outputs": [
    {
     "data": {
      "text/plain": [
       "0.956"
      ]
     },
     "execution_count": 45,
     "metadata": {},
     "output_type": "execute_result"
    }
   ],
   "source": [
    "NUM_REP = 500\n",
    "coverage = 0\n",
    "Δ = zeros(10)\n",
    "\n",
    "for rep=1:NUM_REP\n",
    "    X = rand(spl, 400)\n",
    "    Y = rand(spl, 600)\n",
    "    Ψx = Ψising(X)\n",
    "    Ψy = Ψising(Y);\n",
    "    \n",
    "    straps = boot_KLIEP(Ψx, Ψy; bootSamples=300)\n",
    "    CI = simulCIstudentized(straps)\n",
    "    coverage += all(Δ .<= CI[:, 2]) * all(Δ .>= CI[:, 1]) ? 1 : 0\n",
    "end\n",
    "coverage / NUM_REP"
   ]
  },
  {
   "cell_type": "code",
   "execution_count": null,
   "metadata": {},
   "outputs": [],
   "source": []
  }
 ],
 "metadata": {
  "kernelspec": {
   "display_name": "Julia 1.0.1",
   "language": "julia",
   "name": "julia-1.0"
  },
  "language_info": {
   "file_extension": ".jl",
   "mimetype": "application/julia",
   "name": "julia",
   "version": "1.0.1"
  }
 },
 "nbformat": 4,
 "nbformat_minor": 2
}
