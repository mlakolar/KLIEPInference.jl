{
 "cells": [
  {
   "cell_type": "code",
   "execution_count": 1,
   "metadata": {},
   "outputs": [],
   "source": [
    "using Revise\n",
    "using KLIEPInference\n",
    "using Distributions\n",
    "using LinearAlgebra"
   ]
  },
  {
   "cell_type": "code",
   "execution_count": null,
   "metadata": {},
   "outputs": [],
   "source": [
    "θ = zeros(5, 5)\n",
    "spl = IsingSampler(θ)\n",
    "X = rand(spl, 100)\n",
    "Y = rand(spl, 500)\n",
    "Ψx = Ψising(X)\n",
    "Ψy = Ψising(Y);"
   ]
  },
  {
   "cell_type": "code",
   "execution_count": null,
   "metadata": {},
   "outputs": [],
   "source": [
    "#θhat = KLIEP(Ψx, Ψy,  Mosek_KLIEP())\n",
    "@time θhat = KLIEP(Ψx, Ψy,  SCS_KLIEP())"
   ]
  },
  {
   "cell_type": "code",
   "execution_count": null,
   "metadata": {},
   "outputs": [],
   "source": [
    "@time θhat1 = KLIEP(Ψx, Ψy,  CD_KLIEP())\n",
    "norm(θhat1 - θhat, Inf)"
   ]
  },
  {
   "cell_type": "code",
   "execution_count": 2,
   "metadata": {},
   "outputs": [],
   "source": [
    "θx = zeros(5, 5)\n",
    "splx = IsingSampler(θx)\n",
    "X = rand(splx, 500)\n",
    "\n",
    "θy = zeros(5, 5)\n",
    "θy[1, 2] = .3\n",
    "θy[2, 1] = .3\n",
    "θy[3, 4] = .5\n",
    "θy[4, 3] = .5\n",
    "sply = IsingSampler(θy)\n",
    "Y = rand(sply, 1000)\n",
    "\n",
    "Ψx = Ψising(X)\n",
    "Ψy = Ψising(Y);"
   ]
  },
  {
   "cell_type": "code",
   "execution_count": null,
   "metadata": {},
   "outputs": [],
   "source": [
    "θhat = KLIEP(Ψx, Ψy,  SCS_KLIEP())"
   ]
  },
  {
   "cell_type": "code",
   "execution_count": 3,
   "metadata": {},
   "outputs": [
    {
     "name": "stdout",
     "output_type": "stream",
     "text": [
      " 10.599376 seconds (28.32 M allocations: 1.407 GiB, 5.99% gc time)\n",
      "----------------------------------------------------------------------------\n",
      "\tSCS v2.0.2 - Splitting Conic Solver\n",
      "\t(c) Brendan O'Donoghue, Stanford University, 2012-2017\n",
      "----------------------------------------------------------------------------\n",
      "Lin-sys: sparse-indirect, nnz in A = 13040, CG tol ~ 1/iter^(2.00)\n",
      "eps = 1.00e-05, alpha = 1.50, max_iters = 5000, normalize = 1, scale = 1.00\n",
      "acceleration_lookback = 20, rho_x = 1.00e-03\n",
      "Variables n = 1021, constraints m = 3021\n",
      "Cones:\tlinear vars: 21\n",
      "\texp vars: 3000, dual exp vars: 0\n",
      "Setup time: 4.92e-04s\n",
      "----------------------------------------------------------------------------\n",
      " Iter | pri res | dua res | rel gap | pri obj | dua obj | kap/tau | time (s)\n",
      "----------------------------------------------------------------------------\n",
      "     0| 9.03e-01  9.88e-01  4.10e-01 -3.98e+01 -1.64e+01  1.54e-14  1.22e-02 \n",
      "   100| 5.71e-03  1.96e-02  4.02e-02 -3.49e-01 -2.83e-01  8.21e-15  7.27e-01 \n",
      "   200| 2.80e-05  1.68e-05  1.54e-04 -7.64e-02 -7.62e-02  7.61e-14  1.26e+00 \n",
      "   300| 5.47e-06  6.52e-06  3.72e-05 -7.62e-02 -7.62e-02  1.12e-14  1.78e+00 \n",
      "   320| 1.84e-06  5.38e-06  5.19e-06 -7.62e-02 -7.62e-02  1.32e-14  1.88e+00 \n",
      "----------------------------------------------------------------------------\n",
      "Status: Solved\n",
      "Timing: Solve time: 1.88e+00s\n",
      "\tLin-sys: avg # CG iterations: 4.37, avg solve time: 2.27e-04s\n",
      "\tCones: avg projection time: 5.24e-03s\n",
      "\tAcceleration: avg step time: 3.34e-04s\n",
      "----------------------------------------------------------------------------\n",
      "Error metrics:\n",
      "dist(s, K) = 7.3073e-11, dist(y, K*) = 0.0000e+00, s'y/|s||y| = -1.1358e-10\n",
      "primal res: |Ax + s - b|_2 / (1 + |b|_2) = 1.8419e-06\n",
      "dual res:   |A'y + c|_2 / (1 + |c|_2) = 5.3750e-06\n",
      "rel gap:    |c'x + b'y| / (1 + |c'x| + |b'y|) = 5.1906e-06\n",
      "----------------------------------------------------------------------------\n",
      "c'x = -0.0762, -b'y = -0.0762\n",
      "============================================================================\n"
     ]
    },
    {
     "data": {
      "text/plain": [
       "10-element Array{Float64,1}:\n",
       " -0.20969804136138612  \n",
       "  2.7111475020620737e-5\n",
       " -3.212943501492139e-6 \n",
       " -1.446906768886503e-5 \n",
       " -8.348191908894331e-6 \n",
       " -2.3037773307421434e-5\n",
       "  1.586796965141589e-6 \n",
       " -0.3380769156241899   \n",
       "  9.813813077445105e-6 \n",
       " -2.038708221569357e-5 "
      ]
     },
     "execution_count": 3,
     "metadata": {},
     "output_type": "execute_result"
    }
   ],
   "source": [
    "@time θhat = spKLIEP(Ψx, Ψy,  0.1, SCS_KLIEP())"
   ]
  },
  {
   "cell_type": "code",
   "execution_count": 4,
   "metadata": {},
   "outputs": [
    {
     "name": "stdout",
     "output_type": "stream",
     "text": [
      "  0.726354 seconds (2.23 M allocations: 111.600 MiB, 7.08% gc time)\n"
     ]
    },
    {
     "data": {
      "text/plain": [
       "10-element Array{Float64,1}:\n",
       " -0.20971291604296488\n",
       "  0.0                \n",
       "  0.0                \n",
       "  0.0                \n",
       "  0.0                \n",
       "  0.0                \n",
       "  0.0                \n",
       " -0.33808155284420544\n",
       "  0.0                \n",
       "  0.0                "
      ]
     },
     "execution_count": 4,
     "metadata": {},
     "output_type": "execute_result"
    }
   ],
   "source": [
    "@time θhat1 = spKLIEP(Ψx, Ψy,  0.1, CD_KLIEP())"
   ]
  },
  {
   "cell_type": "code",
   "execution_count": 5,
   "metadata": {},
   "outputs": [
    {
     "data": {
      "text/plain": [
       "2.7111475020620737e-5"
      ]
     },
     "execution_count": 5,
     "metadata": {},
     "output_type": "execute_result"
    }
   ],
   "source": [
    "norm(θhat1 - θhat, Inf)"
   ]
  },
  {
   "cell_type": "code",
   "execution_count": 11,
   "metadata": {},
   "outputs": [
    {
     "data": {
      "text/plain": [
       "10×10 Array{Float64,2}:\n",
       "  0.995904     0.0331385   -0.0187938   …  -0.0262209    0.0199699  \n",
       "  0.0331385    0.997156     0.112018       -0.0423646   -0.0103044  \n",
       " -0.0187938    0.112018     1.0            -0.00941723  -0.0419767  \n",
       " -0.00765903  -0.00940658  -0.0165762      -0.0536294   -0.000360724\n",
       " -0.0552309    0.0655852    0.0168627      -0.0101328   -0.0165832  \n",
       "  0.00153721   0.0158716    0.0640063   …  -0.0172109   -0.0106573  \n",
       " -0.0413202   -0.0272314    0.0189115       0.0296513   -0.018944   \n",
       "  0.00970471   0.00630857  -0.0533661      -0.0157876   -0.00530961 \n",
       " -0.0262209   -0.0423646   -0.00941723      0.999949     0.111881   \n",
       "  0.0199699   -0.0103044   -0.0419767       0.111881     0.999725   "
      ]
     },
     "execution_count": 11,
     "metadata": {},
     "output_type": "execute_result"
    },
    {
     "name": "stderr",
     "output_type": "stream",
     "text": [
      "WARNING: both LinearAlgebra and Distributions export \"scale!\"; uses of it in module Main must be qualified\n"
     ]
    }
   ],
   "source": [
    "C = KLIEP_Hessian(θhat1, Ψy)"
   ]
  },
  {
   "cell_type": "code",
   "execution_count": 13,
   "metadata": {},
   "outputs": [
    {
     "data": {
      "text/plain": [
       "10-element Array{Float64,1}:\n",
       " 0.9125715358592461\n",
       " 0.0               \n",
       " 0.0               \n",
       " 0.0               \n",
       " 0.0               \n",
       " 0.0               \n",
       " 0.0               \n",
       " 0.0               \n",
       " 0.0               \n",
       " 0.0               "
      ]
     },
     "execution_count": 13,
     "metadata": {},
     "output_type": "execute_result"
    }
   ],
   "source": [
    "Hinv_row(C, 1, 0.1)"
   ]
  },
  {
   "cell_type": "code",
   "execution_count": 14,
   "metadata": {},
   "outputs": [
    {
     "data": {
      "text/plain": [
       "10×10 Array{Float64,2}:\n",
       "  1.01194     -0.0376668     0.0212071   …   0.02717     -0.0211485 \n",
       " -0.0376668    1.02398      -0.114938        0.0398342    0.00134716\n",
       "  0.0212071   -0.114938      1.02302         0.00229116   0.040299  \n",
       "  0.00836781   0.00615051    0.0191261       0.0575304   -0.00636738\n",
       "  0.0592331   -0.0668934     0.00118765      0.00743421   0.0133233 \n",
       " -0.00805224   0.000128811  -0.0659413   …   0.0126065    0.00506552\n",
       "  0.0388285    0.0262975    -0.0222994      -0.0334074    0.0217264 \n",
       " -0.00598666  -0.0127874     0.0579512       0.0147893    0.0064648 \n",
       "  0.02717      0.0398342     0.00229116      1.01988     -0.114449  \n",
       " -0.0211485    0.00134716    0.040299       -0.114449     1.01593   "
      ]
     },
     "execution_count": 14,
     "metadata": {},
     "output_type": "execute_result"
    }
   ],
   "source": [
    "inv(C)"
   ]
  },
  {
   "cell_type": "code",
   "execution_count": null,
   "metadata": {},
   "outputs": [],
   "source": []
  }
 ],
 "metadata": {
  "kernelspec": {
   "display_name": "Julia 0.7.1-pre",
   "language": "julia",
   "name": "julia-0.7"
  },
  "language_info": {
   "file_extension": ".jl",
   "mimetype": "application/julia",
   "name": "julia",
   "version": "0.7.1"
  }
 },
 "nbformat": 4,
 "nbformat_minor": 2
}
