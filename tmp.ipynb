{
 "cells": [
  {
   "cell_type": "code",
   "execution_count": 1,
   "metadata": {},
   "outputs": [],
   "source": [
    "using Revise\n",
    "using KLIEPInference\n",
    "using Distributions\n",
    "using LinearAlgebra"
   ]
  },
  {
   "cell_type": "code",
   "execution_count": 2,
   "metadata": {},
   "outputs": [],
   "source": [
    "θ = zeros(5, 5)\n",
    "spl = IsingSampler(θ)\n",
    "X = rand(spl, 100)\n",
    "Y = rand(spl, 500)\n",
    "Ψx = Ψising(X)\n",
    "Ψy = Ψising(Y);"
   ]
  },
  {
   "cell_type": "code",
   "execution_count": 6,
   "metadata": {},
   "outputs": [
    {
     "name": "stdout",
     "output_type": "stream",
     "text": [
      "  1.298192 seconds (114.35 k allocations: 11.015 MiB, 0.62% gc time)\n",
      "----------------------------------------------------------------------------\n",
      "\tSCS v2.0.2 - Splitting Conic Solver\n",
      "\t(c) Brendan O'Donoghue, Stanford University, 2012-2017\n",
      "----------------------------------------------------------------------------\n",
      "Lin-sys: sparse-indirect, nnz in A = 6500, CG tol ~ 1/iter^(2.00)\n",
      "eps = 1.00e-05, alpha = 1.50, max_iters = 5000, normalize = 1, scale = 1.00\n",
      "acceleration_lookback = 20, rho_x = 1.00e-03\n",
      "Variables n = 511, constraints m = 1501\n",
      "Cones:\tlinear vars: 1\n",
      "\texp vars: 1500, dual exp vars: 0\n",
      "Setup time: 3.27e-04s\n",
      "----------------------------------------------------------------------------\n",
      " Iter | pri res | dua res | rel gap | pri obj | dua obj | kap/tau | time (s)\n",
      "----------------------------------------------------------------------------\n",
      "     0| 1.10e+00  5.57e-01  6.53e-02 -1.39e+01 -1.21e+01  2.99e-15  7.76e-03 \n",
      "   100| 2.33e-02  1.23e-02  8.13e-02 -4.35e-02 -1.40e-01  6.68e-02  3.25e-01 \n",
      "   200| 7.36e-05  1.90e-05  4.52e-05 -6.66e-02 -6.67e-02  2.21e-15  5.84e-01 \n",
      "   300| 1.40e-05  3.53e-06  2.61e-06 -6.67e-02 -6.67e-02  3.44e-15  8.54e-01 \n",
      "   400| 1.57e-05  1.06e-05  9.17e-05 -6.66e-02 -6.67e-02  8.65e-15  1.12e+00 \n",
      "   460| 5.39e-07  6.92e-07  7.82e-07 -6.67e-02 -6.67e-02  3.43e-15  1.28e+00 \n",
      "----------------------------------------------------------------------------\n",
      "Status: Solved\n",
      "Timing: Solve time: 1.28e+00s\n",
      "\tLin-sys: avg # CG iterations: 3.79, avg solve time: 9.91e-05s\n",
      "\tCones: avg projection time: 2.45e-03s\n",
      "\tAcceleration: avg step time: 1.93e-04s\n",
      "----------------------------------------------------------------------------\n",
      "Error metrics:\n",
      "dist(s, K) = 0.0000e+00, dist(y, K*) = 0.0000e+00, s'y/|s||y| = -8.1274e-10\n",
      "primal res: |Ax + s - b|_2 / (1 + |b|_2) = 5.3857e-07\n",
      "dual res:   |A'y + c|_2 / (1 + |c|_2) = 6.9178e-07\n",
      "rel gap:    |c'x + b'y| / (1 + |c'x| + |b'y|) = 7.8151e-07\n",
      "----------------------------------------------------------------------------\n",
      "c'x = -0.0667, -b'y = -0.0667\n",
      "============================================================================\n"
     ]
    },
    {
     "data": {
      "text/plain": [
       "10-element Array{Float64,1}:\n",
       "  0.11464510407379162 \n",
       "  0.09657227807667636 \n",
       "  0.1521473733277225  \n",
       " -0.18495905960619297 \n",
       "  0.058401335332394236\n",
       "  7.113976949482982e-5\n",
       " -0.1713434558461733  \n",
       " -0.09981989444407603 \n",
       "  0.12210947002108315 \n",
       "  0.08754762903255835 "
      ]
     },
     "execution_count": 6,
     "metadata": {},
     "output_type": "execute_result"
    }
   ],
   "source": [
    "#θhat = KLIEP(Ψx, Ψy,  Mosek_KLIEP())\n",
    "@time θhat = KLIEP(Ψx, Ψy,  SCS_KLIEP())"
   ]
  },
  {
   "cell_type": "code",
   "execution_count": 5,
   "metadata": {},
   "outputs": [
    {
     "name": "stdout",
     "output_type": "stream",
     "text": [
      "  0.003361 seconds (504 allocations: 1.910 MiB)\n"
     ]
    },
    {
     "data": {
      "text/plain": [
       "9.759016308355517e-6"
      ]
     },
     "execution_count": 5,
     "metadata": {},
     "output_type": "execute_result"
    }
   ],
   "source": [
    "@time θhat1 = KLIEP(Ψx, Ψy,  CD_KLIEP())\n",
    "norm(θhat1 - θhat, Inf)"
   ]
  },
  {
   "cell_type": "code",
   "execution_count": null,
   "metadata": {},
   "outputs": [],
   "source": [
    "θx = zeros(5, 5)\n",
    "splx = IsingSampler(θx)\n",
    "X = rand(splx, 50)\n",
    "\n",
    "θy = zeros(5, 5)\n",
    "θy[1, 2] = .3\n",
    "θy[2, 1] = .3\n",
    "sply = IsingSampler(θy)\n",
    "Y = rand(sply, 100)\n",
    "\n",
    "Ψx = Ψising(X)\n",
    "Ψy = Ψising(Y);"
   ]
  },
  {
   "cell_type": "code",
   "execution_count": null,
   "metadata": {},
   "outputs": [],
   "source": [
    "θhat = KLIEP(Ψx, Ψy,  SCS_KLIEP())"
   ]
  },
  {
   "cell_type": "code",
   "execution_count": null,
   "metadata": {},
   "outputs": [],
   "source": [
    "@time θhat = spKLIEP(Ψx, Ψy,  0.1, SCS_KLIEP())"
   ]
  },
  {
   "cell_type": "code",
   "execution_count": null,
   "metadata": {},
   "outputs": [],
   "source": [
    "@time θhat1 = spKLIEP(Ψx, Ψy,  0.1, CD_KLIEP())"
   ]
  },
  {
   "cell_type": "code",
   "execution_count": null,
   "metadata": {},
   "outputs": [],
   "source": [
    "norm(θhat1 - θhat, Inf)"
   ]
  },
  {
   "cell_type": "code",
   "execution_count": null,
   "metadata": {},
   "outputs": [],
   "source": []
  }
 ],
 "metadata": {
  "kernelspec": {
   "display_name": "Julia 0.7.0",
   "language": "julia",
   "name": "julia-0.7"
  },
  "language_info": {
   "file_extension": ".jl",
   "mimetype": "application/julia",
   "name": "julia",
   "version": "0.7.0"
  }
 },
 "nbformat": 4,
 "nbformat_minor": 2
}
