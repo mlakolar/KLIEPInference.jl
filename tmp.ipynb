{
 "cells": [
  {
   "cell_type": "code",
   "execution_count": 1,
   "metadata": {},
   "outputs": [
    {
     "name": "stderr",
     "output_type": "stream",
     "text": [
      "┌ Info: Recompiling stale cache file /home/mkolar/.julia/compiled/v0.7/KLIEPInference/rX42g.ji for KLIEPInference [2424ee94-ddf3-11e8-1bca-091389175f78]\n",
      "└ @ Base loading.jl:1185\n"
     ]
    }
   ],
   "source": [
    "using Revise\n",
    "using KLIEPInference\n",
    "using Distributions\n",
    "using MathOptInterfaceMosek, SCS\n",
    "import JuMP"
   ]
  },
  {
   "cell_type": "code",
   "execution_count": 18,
   "metadata": {},
   "outputs": [
    {
     "data": {
      "text/plain": [
       "10×1000 Array{Float64,2}:\n",
       " -1.0  1.0  -1.0  1.0   1.0   1.0   1.0  …   1.0  -1.0   1.0  -1.0  1.0  -1.0\n",
       " -1.0  1.0   1.0  1.0  -1.0   1.0   1.0      1.0  -1.0  -1.0   1.0  1.0   1.0\n",
       "  1.0  1.0   1.0  1.0  -1.0  -1.0   1.0     -1.0   1.0   1.0  -1.0  1.0   1.0\n",
       "  1.0  1.0   1.0  1.0  -1.0   1.0  -1.0     -1.0   1.0   1.0  -1.0  1.0   1.0\n",
       "  1.0  1.0  -1.0  1.0  -1.0   1.0   1.0      1.0   1.0  -1.0  -1.0  1.0  -1.0\n",
       " -1.0  1.0  -1.0  1.0  -1.0  -1.0   1.0  …  -1.0  -1.0   1.0   1.0  1.0  -1.0\n",
       " -1.0  1.0  -1.0  1.0  -1.0   1.0  -1.0     -1.0  -1.0   1.0   1.0  1.0  -1.0\n",
       " -1.0  1.0   1.0  1.0   1.0  -1.0   1.0     -1.0  -1.0  -1.0  -1.0  1.0   1.0\n",
       " -1.0  1.0   1.0  1.0   1.0   1.0  -1.0     -1.0  -1.0  -1.0  -1.0  1.0   1.0\n",
       "  1.0  1.0   1.0  1.0   1.0  -1.0  -1.0      1.0   1.0   1.0   1.0  1.0   1.0"
      ]
     },
     "execution_count": 18,
     "metadata": {},
     "output_type": "execute_result"
    }
   ],
   "source": [
    "θ = zeros(5, 5)\n",
    "spl = IsingSampler(θ)\n",
    "X = rand(spl, 500)\n",
    "Y = rand(spl, 1000)\n",
    "Ψx = Ψising(X)\n",
    "Ψy = Ψising(Y);"
   ]
  },
  {
   "cell_type": "code",
   "execution_count": 19,
   "metadata": {},
   "outputs": [
    {
     "name": "stdout",
     "output_type": "stream",
     "text": [
      "  3.425239 seconds (281.22 k allocations: 29.979 MiB, 0.51% gc time)\n",
      "----------------------------------------------------------------------------\n",
      "\tSCS v2.0.2 - Splitting Conic Solver\n",
      "\t(c) Brendan O'Donoghue, Stanford University, 2012-2017\n",
      "----------------------------------------------------------------------------\n",
      "Lin-sys: sparse-indirect, nnz in A = 13000, CG tol ~ 1/iter^(2.00)\n",
      "eps = 1.00e-05, alpha = 1.50, max_iters = 5000, normalize = 1, scale = 1.00\n",
      "acceleration_lookback = 20, rho_x = 1.00e-03\n",
      "Variables n = 1011, constraints m = 3001\n",
      "Cones:\tlinear vars: 1\n",
      "\texp vars: 3000, dual exp vars: 0\n",
      "Setup time: 1.01e-03s\n",
      "----------------------------------------------------------------------------\n",
      " Iter | pri res | dua res | rel gap | pri obj | dua obj | kap/tau | time (s)\n",
      "----------------------------------------------------------------------------\n",
      "     0| 1.09e+00  5.20e-01  5.23e-02 -1.51e+01 -1.35e+01  2.24e-15  2.34e-02 \n",
      "   100| 1.26e-02  3.01e-03  1.99e-03 -7.89e-02 -8.12e-02  3.41e-15  9.48e-01 \n",
      "   200| 3.62e-05  3.07e-05  3.89e-04 -1.95e-02 -1.99e-02  2.58e-15  1.88e+00 \n",
      "   300| 3.50e-04  4.73e-05  2.11e-04 -1.97e-02 -1.99e-02  1.52e-15  2.81e+00 \n",
      "   360| 5.48e-06  4.49e-06  4.21e-06 -1.99e-02 -1.99e-02  9.33e-18  3.37e+00 \n",
      "----------------------------------------------------------------------------\n",
      "Status: Solved\n",
      "Timing: Solve time: 3.37e+00s\n",
      "\tLin-sys: avg # CG iterations: 3.61, avg solve time: 3.56e-04s\n",
      "\tCones: avg projection time: 8.34e-03s\n",
      "\tAcceleration: avg step time: 5.33e-04s\n",
      "----------------------------------------------------------------------------\n",
      "Error metrics:\n",
      "dist(s, K) = 1.0568e-10, dist(y, K*) = 0.0000e+00, s'y/|s||y| = 7.0294e-10\n",
      "primal res: |Ax + s - b|_2 / (1 + |b|_2) = 5.4813e-06\n",
      "dual res:   |A'y + c|_2 / (1 + |c|_2) = 4.4867e-06\n",
      "rel gap:    |c'x + b'y| / (1 + |c'x| + |b'y|) = 4.2102e-06\n",
      "----------------------------------------------------------------------------\n",
      "c'x = -0.0199, -b'y = -0.0199\n",
      "============================================================================\n"
     ]
    },
    {
     "data": {
      "text/plain": [
       "10-element Array{Float64,1}:\n",
       " -0.10732113223697365 \n",
       "  0.015635747665701284\n",
       " -0.033053198134818905\n",
       "  0.04949717722833603 \n",
       " -0.02806154004687123 \n",
       "  0.0151376788410599  \n",
       "  0.0847280435482009  \n",
       " -0.12337812196207168 \n",
       " -0.035903668493558714\n",
       " -0.04134721351828584 "
      ]
     },
     "execution_count": 19,
     "metadata": {},
     "output_type": "execute_result"
    }
   ],
   "source": [
    "#solver = JuMP.with_optimizer(MosekOptimizer, QUIET=false)\n",
    "solver = JuMP.with_optimizer(SCS.Optimizer, verbose=1)\n",
    "θhat = KLIEP(Ψx, Ψy, solver, SOCP_KLIEP())"
   ]
  },
  {
   "cell_type": "code",
   "execution_count": 24,
   "metadata": {},
   "outputs": [],
   "source": [
    "θx = zeros(5, 5)\n",
    "splx = IsingSampler(θx)\n",
    "X = rand(splx, 500)\n",
    "\n",
    "θy = zeros(5, 5)\n",
    "θy[1, 2] = .3\n",
    "θy[2, 1] = .3\n",
    "sply = IsingSampler(θy)\n",
    "Y = rand(sply, 1000)\n",
    "\n",
    "Ψx = Ψising(X)\n",
    "Ψy = Ψising(Y);"
   ]
  },
  {
   "cell_type": "code",
   "execution_count": 25,
   "metadata": {},
   "outputs": [
    {
     "name": "stdout",
     "output_type": "stream",
     "text": [
      "----------------------------------------------------------------------------\n",
      "\tSCS v2.0.2 - Splitting Conic Solver\n",
      "\t(c) Brendan O'Donoghue, Stanford University, 2012-2017\n",
      "----------------------------------------------------------------------------\n",
      "Lin-sys: sparse-indirect, nnz in A = 13000, CG tol ~ 1/iter^(2.00)\n",
      "eps = 1.00e-05, alpha = 1.50, max_iters = 5000, normalize = 1, scale = 1.00\n",
      "acceleration_lookback = 20, rho_x = 1.00e-03\n",
      "Variables n = 1011, constraints m = 3001\n",
      "Cones:\tlinear vars: 1\n",
      "\texp vars: 3000, dual exp vars: 0\n",
      "Setup time: 8.33e-04s\n",
      "----------------------------------------------------------------------------\n",
      " Iter | pri res | dua res | rel gap | pri obj | dua obj | kap/tau | time (s)\n",
      "----------------------------------------------------------------------------\n",
      "     0| 1.13e+00  5.36e-01  6.36e-02 -1.57e+01 -1.38e+01  2.29e-15  3.34e-02 \n",
      "   100| 9.51e-04  2.30e-04  3.63e-03 -6.67e-02 -6.26e-02  2.23e-15  1.01e+00 \n",
      "   200| 3.02e-05  7.41e-06  1.11e-04 -6.27e-02 -6.25e-02  3.51e-15  1.97e+00 \n",
      "   300| 1.91e-05  7.90e-06  3.75e-05 -6.25e-02 -6.25e-02  6.98e-15  2.90e+00 \n",
      "   400| 5.93e-05  2.26e-05  1.85e-04 -6.27e-02 -6.25e-02  6.33e-16  3.84e+00 \n",
      "   500| 7.77e-05  1.77e-05  2.97e-04 -6.29e-02 -6.25e-02  2.04e-14  4.78e+00 \n",
      "   540| 2.27e-06  2.88e-06  8.44e-06 -6.25e-02 -6.25e-02  1.84e-15  5.16e+00 \n",
      "----------------------------------------------------------------------------\n",
      "Status: Solved\n",
      "Timing: Solve time: 5.16e+00s\n",
      "\tLin-sys: avg # CG iterations: 4.04, avg solve time: 3.97e-04s\n",
      "\tCones: avg projection time: 8.47e-03s\n",
      "\tAcceleration: avg step time: 5.71e-04s\n",
      "----------------------------------------------------------------------------\n",
      "Error metrics:\n",
      "dist(s, K) = 1.0556e-10, dist(y, K*) = 0.0000e+00, s'y/|s||y| = 6.1077e-11\n",
      "primal res: |Ax + s - b|_2 / (1 + |b|_2) = 2.2665e-06\n",
      "dual res:   |A'y + c|_2 / (1 + |c|_2) = 2.8760e-06\n",
      "rel gap:    |c'x + b'y| / (1 + |c'x| + |b'y|) = 8.4355e-06\n",
      "----------------------------------------------------------------------------\n",
      "c'x = -0.0625, -b'y = -0.0625\n",
      "============================================================================\n"
     ]
    },
    {
     "data": {
      "text/plain": [
       "10-element Array{Float64,1}:\n",
       " -0.3159677981021649   \n",
       " -0.0025015119153493502\n",
       " -0.0004152897812701905\n",
       "  0.053351047049196895 \n",
       " -0.02364891195210766  \n",
       " -0.06900210314922718  \n",
       "  0.09455196922730602  \n",
       " -0.03741948788271076  \n",
       "  0.07268540138485453  \n",
       " -0.05221240382551319  "
      ]
     },
     "execution_count": 25,
     "metadata": {},
     "output_type": "execute_result"
    }
   ],
   "source": [
    "#solver = JuMP.with_optimizer(MosekOptimizer, QUIET=false)\n",
    "solver = JuMP.with_optimizer(SCS.Optimizer, verbose=1)\n",
    "θhat = KLIEP(Ψx, Ψy, solver, SOCP_KLIEP())"
   ]
  },
  {
   "cell_type": "code",
   "execution_count": 47,
   "metadata": {},
   "outputs": [
    {
     "data": {
      "text/plain": [
       "5×1 Array{Int64,2}:\n",
       " 5114\n",
       " 5134\n",
       " 5018\n",
       " 5075\n",
       " 4994"
      ]
     },
     "execution_count": 47,
     "metadata": {},
     "output_type": "execute_result"
    }
   ],
   "source": [
    "sum(Y, dims=2)"
   ]
  },
  {
   "cell_type": "code",
   "execution_count": null,
   "metadata": {},
   "outputs": [],
   "source": []
  }
 ],
 "metadata": {
  "kernelspec": {
   "display_name": "Julia 0.7.1-pre",
   "language": "julia",
   "name": "julia-0.7"
  },
  "language_info": {
   "file_extension": ".jl",
   "mimetype": "application/julia",
   "name": "julia",
   "version": "0.7.1"
  }
 },
 "nbformat": 4,
 "nbformat_minor": 2
}
