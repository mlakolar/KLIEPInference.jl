{
 "cells": [
  {
   "cell_type": "code",
   "execution_count": 25,
   "metadata": {},
   "outputs": [],
   "source": [
    "using KLIEPInference\n",
    "using ProximalBase, CoordinateDescent\n",
    "using LinearAlgebra, SparseArrays, Statistics, Random\n",
    "using Distributions, JLD"
   ]
  },
  {
   "cell_type": "code",
   "execution_count": 18,
   "metadata": {},
   "outputs": [
    {
     "data": {
      "text/plain": [
       "_compute_loadings (generic function with 1 method)"
      ]
     },
     "execution_count": 18,
     "metadata": {},
     "output_type": "execute_result"
    }
   ],
   "source": [
    "function spKLIEP(Ψx, Ψy, λ; loadings=true)\n",
    "    x = SparseIterate(size(Ψx, 1))\n",
    "    f = KLIEPInference.CDKLIEPLoss(Ψx, Ψy)\n",
    "    \n",
    "    γ = _compute_loadings(x, Ψx, Ψy)\n",
    "    g = ProxL1(λ, γ)\n",
    "    coordinateDescent!(x, f, g)\n",
    "    \n",
    "    γ = _compute_loadings(x, Ψx, Ψy)\n",
    "    g = ProxL1(λ, γ)\n",
    "    coordinateDescent!(x, f, g, CDOptions(; warmStart=true))\n",
    "    \n",
    "    return x\n",
    "end\n",
    "\n",
    "function _compute_loadings(θ, ω, Ψx, Ψy)\n",
    "    p, nx = size(Ψx)\n",
    "    ny = size(Ψy, 2)\n",
    "\n",
    "    wy = zeros(ny)\n",
    "    mul!(wy, transpose(Ψy), θ)\n",
    "    wy .= exp.(wy)\n",
    "    wy ./= mean(wy)\n",
    "\n",
    "    Ψyw = zeros(p, ny)\n",
    "    for j = 1:ny\n",
    "        for k = 1:p\n",
    "            Ψyw[k, j] = wy[j] * Ψy[k, j]\n",
    "        end\n",
    "    end\n",
    "\n",
    "    S  = cov( transpose(Ψx) , corrected=false) / nx\n",
    "    S += cov( transpose(Ψyw), corrected=false) / ny\n",
    "    \n",
    "    return sqrt.(diag(S))\n",
    "end"
   ]
  },
  {
   "cell_type": "code",
   "execution_count": 13,
   "metadata": {},
   "outputs": [
    {
     "data": {
      "text/plain": [
       "MersenneTwister(UInt32[0x000004c1], Random.DSFMT.DSFMT_state(Int32[1375264445, 1073557489, 1793484471, 1073579540, 1202775888, 1073444522, 1951507022, 1073169694, 482126860, 1073209904  …  -1273351600, 1073496712, 1948612055, 1072718086, -2015603773, 817058167, -1504403733, -1290297799, 382, 0]), [0.0, 0.0, 0.0, 0.0, 0.0, 0.0, 0.0, 0.0, 0.0, 0.0  …  0.0, 0.0, 0.0, 0.0, 0.0, 0.0, 0.0, 0.0, 0.0, 0.0], UInt128[0x00000000000000000000000000000000, 0x00000000000000000000000000000000, 0x00000000000000000000000000000000, 0x00000000000000000000000000000000, 0x00000000000000000000000000000000, 0x00000000000000000000000000000000, 0x00000000000000000000000000000000, 0x00000000000000000000000000000000, 0x00000000000000000000000000000000, 0x00000000000000000000000000000000  …  0x00000000000000000000000000000000, 0x00000000000000000000000000000000, 0x00000000000000000000000000000000, 0x00000000000000000000000000000000, 0x00000000000000000000000000000000, 0x00000000000000000000000000000000, 0x00000000000000000000000000000000, 0x00000000000000000000000000000000, 0x00000000000000000000000000000000, 0x00000000000000000000000000000000], 1002, 0)"
      ]
     },
     "execution_count": 13,
     "metadata": {},
     "output_type": "execute_result"
    }
   ],
   "source": [
    "Random.seed!(1217)"
   ]
  },
  {
   "cell_type": "code",
   "execution_count": 6,
   "metadata": {},
   "outputs": [
    {
     "data": {
      "text/plain": [
       "300"
      ]
     },
     "execution_count": 6,
     "metadata": {},
     "output_type": "execute_result"
    }
   ],
   "source": [
    "m = 25  #number of nodes\n",
    "p = div(m * (m-1), 2)  #number of parameters\n",
    "nx = 150\n",
    "ny = 300"
   ]
  },
  {
   "cell_type": "code",
   "execution_count": 7,
   "metadata": {},
   "outputs": [
    {
     "data": {
      "text/plain": [
       "15"
      ]
     },
     "execution_count": 7,
     "metadata": {},
     "output_type": "execute_result"
    }
   ],
   "source": [
    "idx = KLIEPInference.trimap(5,6)  #edge of interest"
   ]
  },
  {
   "cell_type": "code",
   "execution_count": 10,
   "metadata": {},
   "outputs": [
    {
     "data": {
      "text/plain": [
       "300×300 Array{Float64,2}:\n",
       " -1.0  -1.0  -1.0  -1.0  -1.0  -1.0  …  -1.0  -1.0   1.0  -1.0  -1.0  -1.0\n",
       "  1.0   1.0   1.0   1.0   1.0   1.0      1.0   1.0   1.0   1.0   1.0   1.0\n",
       " -1.0  -1.0  -1.0  -1.0  -1.0  -1.0     -1.0  -1.0   1.0  -1.0  -1.0  -1.0\n",
       "  1.0   1.0  -1.0   1.0   1.0  -1.0      1.0  -1.0   1.0  -1.0   1.0   1.0\n",
       " -1.0  -1.0   1.0  -1.0  -1.0   1.0     -1.0   1.0   1.0   1.0  -1.0  -1.0\n",
       "  1.0   1.0  -1.0   1.0   1.0  -1.0  …   1.0  -1.0   1.0  -1.0   1.0   1.0\n",
       " -1.0   1.0  -1.0  -1.0   1.0  -1.0     -1.0  -1.0   1.0  -1.0   1.0   1.0\n",
       "  1.0  -1.0   1.0   1.0  -1.0   1.0      1.0   1.0   1.0   1.0  -1.0  -1.0\n",
       " -1.0   1.0  -1.0  -1.0   1.0  -1.0     -1.0  -1.0   1.0  -1.0   1.0   1.0\n",
       " -1.0   1.0   1.0  -1.0   1.0   1.0     -1.0   1.0   1.0   1.0   1.0   1.0\n",
       "  1.0   1.0  -1.0   1.0   1.0  -1.0  …  -1.0   1.0   1.0  -1.0  -1.0   1.0\n",
       " -1.0  -1.0   1.0  -1.0  -1.0   1.0      1.0  -1.0   1.0   1.0   1.0  -1.0\n",
       "  1.0   1.0  -1.0   1.0   1.0  -1.0     -1.0   1.0   1.0  -1.0  -1.0   1.0\n",
       "  ⋮                             ⋮    ⋱         ⋮                      \n",
       " -1.0   1.0   1.0   1.0  -1.0   1.0     -1.0   1.0  -1.0  -1.0  -1.0  -1.0\n",
       "  1.0  -1.0  -1.0   1.0   1.0   1.0      1.0   1.0   1.0  -1.0   1.0   1.0\n",
       "  1.0   1.0  -1.0  -1.0  -1.0   1.0  …  -1.0  -1.0  -1.0   1.0   1.0   1.0\n",
       " -1.0  -1.0   1.0  -1.0  -1.0  -1.0      1.0  -1.0  -1.0  -1.0  -1.0  -1.0\n",
       "  1.0  -1.0   1.0  -1.0  -1.0   1.0      1.0  -1.0  -1.0  -1.0  -1.0  -1.0\n",
       " -1.0   1.0  -1.0   1.0  -1.0  -1.0      1.0   1.0   1.0   1.0   1.0   1.0\n",
       "  1.0   1.0   1.0  -1.0  -1.0   1.0      1.0  -1.0   1.0  -1.0  -1.0  -1.0\n",
       " -1.0  -1.0  -1.0   1.0  -1.0  -1.0  …  -1.0  -1.0  -1.0  -1.0  -1.0   1.0\n",
       "  1.0   1.0   1.0  -1.0   1.0   1.0      1.0   1.0   1.0   1.0   1.0   1.0\n",
       "  1.0  -1.0   1.0   1.0   1.0   1.0      1.0   1.0  -1.0  -1.0   1.0   1.0\n",
       " -1.0   1.0  -1.0  -1.0  -1.0  -1.0     -1.0  -1.0   1.0  -1.0  -1.0  -1.0\n",
       " -1.0   1.0  -1.0  -1.0  -1.0  -1.0     -1.0  -1.0   1.0  -1.0  -1.0  -1.0"
      ]
     },
     "execution_count": 10,
     "metadata": {},
     "output_type": "execute_result"
    }
   ],
   "source": [
    "file = jldopen(\"/Users/byolkim/Documents/KLIEPInference.jl/exper/exper1/graphs/chain1_25.jld\", \"r\")\n",
    "θx = pack(read(file, \"Θx\"))\n",
    "θy = pack(read(file, \"Θy\"))\n",
    "close(file)\n",
    "\n",
    "spl = IsingSampler(θx; thin=2000)\n",
    "X = rand(spl, nx)\n",
    "spl = IsingSampler(θy; thin=2000)\n",
    "Y = rand(spl, ny)\n",
    "\n",
    "Ψx = Ψising(X)\n",
    "Ψy = Ψising(Y)"
   ]
  },
  {
   "cell_type": "code",
   "execution_count": 33,
   "metadata": {},
   "outputs": [
    {
     "name": "stdout",
     "output_type": "stream",
     "text": [
      "λ1 = 1.01 * quantile(Normal(), 1.0 - 0.05 / p) = 3.6237938190108476\n",
      "λ2 = sqrt((2.0 * log(p)) / ny) = 0.19500055512153808\n",
      "(θ1, θ2) = debias_KLIEP(idx, θ, ω, Ψx, Ψy) = (-0.036020991860404555, -0.05910655455443981)\n"
     ]
    },
    {
     "data": {
      "text/plain": [
       "(-0.036020991860404555, -0.05910655455443981)"
      ]
     },
     "execution_count": 33,
     "metadata": {},
     "output_type": "execute_result"
    }
   ],
   "source": [
    "@show λ1 = 1.01 * quantile(Normal(), 1. - 0.05 / p)\n",
    "θ = spKLIEP(Ψx, Ψy, λ1; loadings=true)\n",
    "\n",
    "@show λ2 = sqrt(2. * log(p) / ny)\n",
    "H = KLIEP_Hessian(θ, Ψy)\n",
    "ω = Hinv_row(H, idx, λ2)\n",
    "\n",
    "@show θ1, θ2 = debias_KLIEP(idx, θ, ω, Ψx, Ψy)"
   ]
  },
  {
   "cell_type": "code",
   "execution_count": 49,
   "metadata": {},
   "outputs": [
    {
     "data": {
      "text/plain": [
       "0.0"
      ]
     },
     "execution_count": 49,
     "metadata": {},
     "output_type": "execute_result"
    }
   ],
   "source": [
    "δ = zeros(p)\n",
    "δ[idx] = -1.0\n",
    "δ = δ .+ 1.0\n",
    "δ[idx]"
   ]
  },
  {
   "cell_type": "code",
   "execution_count": null,
   "metadata": {},
   "outputs": [],
   "source": []
  }
 ],
 "metadata": {
  "kernelspec": {
   "display_name": "JuliaPro_v1.5.3-1 1.5.3",
   "language": "julia",
   "name": "juliapro_v1.5.3-1-1.5"
  },
  "language_info": {
   "file_extension": ".jl",
   "mimetype": "application/julia",
   "name": "julia",
   "version": "1.5.3"
  }
 },
 "nbformat": 4,
 "nbformat_minor": 2
}
