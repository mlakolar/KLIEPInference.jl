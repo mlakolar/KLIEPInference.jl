{
 "cells": [
  {
   "cell_type": "code",
   "execution_count": null,
   "metadata": {},
   "outputs": [],
   "source": [
    "using KLIEPInference\n",
    "using ProximalBase, CoordinateDescent\n",
    "using LinearAlgebra, SparseArrays"
   ]
  },
  {
   "cell_type": "code",
   "execution_count": null,
   "metadata": {},
   "outputs": [],
   "source": [
    "Random.seed!(1217)"
   ]
  },
  {
   "cell_type": "code",
   "execution_count": null,
   "metadata": {},
   "outputs": [],
   "source": [
    "m = 25  #number of nodes\n",
    "p = div(m * (m-1), 2)  #number of parameters\n",
    "nx = 150\n",
    "ny = 300"
   ]
  },
  {
   "cell_type": "code",
   "execution_count": null,
   "metadata": {},
   "outputs": [],
   "source": [
    "idx = KLIEPInference.trimap(5,6)  #edge of interest"
   ]
  },
  {
   "cell_type": "code",
   "execution_count": null,
   "metadata": {},
   "outputs": [],
   "source": [
    "file = jldopen(\"/Users/byolkim/Documents/KLIEPInference.jl/exper/exper1/graphs/chain1_25.jld\", \"r\")\n",
    "θx = pack(read(file, \"Θx\"))\n",
    "θy = pack(read(file, \"Θy\"))\n",
    "close(file)\n",
    "\n",
    "spl = IsingSampler(θx; thin=2000)\n",
    "X = rand(spl, nx)\n",
    "spl = IsingSampler(θy; thin=2000)\n",
    "Y = rand(spl, ny)\n",
    "\n",
    "Ψx = Ψising(X)\n",
    "Ψy = Ψising(Y)"
   ]
  },
  {
   "cell_type": "code",
   "execution_count": null,
   "metadata": {},
   "outputs": [],
   "source": [
    "@show \\lambda\n",
    "θ = spKLIEP(Ψx, Ψy, λ[t], CD_KLIEP())\n",
    "supp = sort(union(idx, findall(!iszero, θ)))\n",
    "spKLIEP_refit!(θ, Ψx, Ψy, supp)\n",
    "\n",
    "H = KLIEP_Hessian(θ, Ψy)\n",
    "ω = Hinv_row(H, idx, round(sqrt(2. * log(p) / ny), digits=3))\n",
    "supp = sort(union(idx, findall(!iszero, ω)))\n",
    "Hinv_row_refit!(ω, H, idx, supp)\n",
    "\n",
    "θ0[:,t] .= debias_KLIEP(idx, θ, ω, Ψx, Ψy)"
   ]
  }
 ],
 "metadata": {
  "kernelspec": {
   "display_name": "Julia 1.2.0",
   "language": "julia",
   "name": "julia-1.2"
  }
 },
 "nbformat": 4,
 "nbformat_minor": 2
}
