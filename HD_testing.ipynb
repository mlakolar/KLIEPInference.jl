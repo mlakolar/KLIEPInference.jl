{
 "cells": [
  {
   "cell_type": "code",
   "execution_count": 1,
   "metadata": {},
   "outputs": [],
   "source": [
    "using Revise\n",
    "using KLIEPInference\n",
    "using Distributions\n",
    "using LinearAlgebra\n",
    "using BenchmarkTools\n",
    "using SparseArrays"
   ]
  },
  {
   "cell_type": "code",
   "execution_count": 141,
   "metadata": {},
   "outputs": [
    {
     "data": {
      "text/plain": [
       "4-element Array{Int64,1}:\n",
       "    6\n",
       " 1485\n",
       " 1540\n",
       " 4371"
      ]
     },
     "execution_count": 141,
     "metadata": {},
     "output_type": "execute_result"
    }
   ],
   "source": [
    "p = 100\n",
    "θx = chain(p, 10, 0.2, 0.4, 0)\n",
    "θy = copy(θx)\n",
    "removeEdges!(θy, 4)\n",
    "Δ = θx - θy\n",
    "ind_nz = findall(!iszero, Δ)"
   ]
  },
  {
   "cell_type": "code",
   "execution_count": 142,
   "metadata": {},
   "outputs": [
    {
     "data": {
      "text/plain": [
       "4-element Array{Float64,1}:\n",
       " 0.33825496914877096\n",
       " 0.3672520676397463 \n",
       " 0.22772231427944836\n",
       " 0.2007802021942048 "
      ]
     },
     "execution_count": 142,
     "metadata": {},
     "output_type": "execute_result"
    }
   ],
   "source": [
    "Δ[ind_nz]"
   ]
  },
  {
   "cell_type": "code",
   "execution_count": 112,
   "metadata": {},
   "outputs": [
    {
     "data": {
      "text/plain": [
       "50×50 Array{Float64,2}:\n",
       " 0.0       0.516424  0.0       0.0       …  0.0       0.0       0.0     \n",
       " 0.516424  0.0       0.408377  0.0          0.0       0.0       0.0     \n",
       " 0.0       0.408377  0.0       0.476824     0.0       0.0       0.0     \n",
       " 0.0       0.0       0.476824  0.0          0.0       0.0       0.0     \n",
       " 0.0       0.0       0.0       0.458486     0.0       0.0       0.0     \n",
       " 0.0       0.0       0.0       0.0       …  0.0       0.0       0.0     \n",
       " 0.0       0.0       0.0       0.0          0.0       0.0       0.0     \n",
       " 0.0       0.0       0.0       0.0          0.0       0.0       0.0     \n",
       " 0.0       0.0       0.0       0.0          0.0       0.0       0.0     \n",
       " 0.0       0.0       0.0       0.0          0.0       0.0       0.0     \n",
       " 0.0       0.0       0.0       0.0       …  0.0       0.0       0.0     \n",
       " 0.0       0.0       0.0       0.0          0.0       0.0       0.0     \n",
       " 0.0       0.0       0.0       0.0          0.0       0.0       0.0     \n",
       " ⋮                                       ⋱                              \n",
       " 0.0       0.0       0.0       0.0          0.0       0.0       0.0     \n",
       " 0.0       0.0       0.0       0.0          0.0       0.0       0.0     \n",
       " 0.0       0.0       0.0       0.0       …  0.0       0.0       0.0     \n",
       " 0.0       0.0       0.0       0.0          0.0       0.0       0.0     \n",
       " 0.0       0.0       0.0       0.0          0.0       0.0       0.0     \n",
       " 0.0       0.0       0.0       0.0          0.0       0.0       0.0     \n",
       " 0.0       0.0       0.0       0.0          0.0       0.0       0.0     \n",
       " 0.0       0.0       0.0       0.0       …  0.0       0.0       0.0     \n",
       " 0.0       0.0       0.0       0.0          0.590532  0.0       0.0     \n",
       " 0.0       0.0       0.0       0.0          0.0       0.469032  0.0     \n",
       " 0.0       0.0       0.0       0.0          0.469032  0.0       0.494397\n",
       " 0.0       0.0       0.0       0.0          0.0       0.494397  0.0     "
      ]
     },
     "execution_count": 112,
     "metadata": {},
     "output_type": "execute_result"
    }
   ],
   "source": [
    "unpack(θx)"
   ]
  },
  {
   "cell_type": "code",
   "execution_count": 85,
   "metadata": {},
   "outputs": [
    {
     "data": {
      "text/plain": [
       "5×5 Array{Float64,2}:\n",
       " 0.0       0.497204  0.0       0.0       0.0\n",
       " 0.497204  0.0       0.0       0.0       0.0\n",
       " 0.0       0.0       0.0       0.595112  0.0\n",
       " 0.0       0.0       0.595112  0.0       0.0\n",
       " 0.0       0.0       0.0       0.0       0.0"
      ]
     },
     "execution_count": 85,
     "metadata": {},
     "output_type": "execute_result"
    }
   ],
   "source": [
    "unpack(θy)"
   ]
  },
  {
   "cell_type": "code",
   "execution_count": 143,
   "metadata": {},
   "outputs": [],
   "source": [
    "nx = 500\n",
    "ny = 500\n",
    "spl = IsingSampler(θx; thin=1000)\n",
    "X = rand(spl, nx)\n",
    "spl = IsingSampler(θy; thin=1000)\n",
    "Y = rand(spl, ny)\n",
    "Ψx = Ψising(X)\n",
    "Ψy = Ψising(Y);"
   ]
  },
  {
   "cell_type": "code",
   "execution_count": 154,
   "metadata": {},
   "outputs": [
    {
     "name": "stdout",
     "output_type": "stream",
     "text": [
      "λ = 1.2 * sqrt((2.0 * log(m)) / nx) = 0.22136201762732774\n"
     ]
    },
    {
     "data": {
      "text/plain": [
       "4950-element ProximalBase.SparseIterate{Float64,1} with 6 stored entries:\n",
       "  [6   ]  =  0.0639473\n",
       "  [691 ]  =  0.0255212\n",
       "  [1451]  =  -0.00914313\n",
       "  [1485]  =  0.124683\n",
       "  [4371]  =  0.0837854\n",
       "  [4418]  =  0.0221621\n"
      ]
     },
     "execution_count": 154,
     "metadata": {},
     "output_type": "execute_result"
    }
   ],
   "source": [
    "# @show σ = maximum( sqrt.( nx * var(Ψx; dims=2) + ny * var(Ψy; dims=2) ) ) / sqrt(nx + ny)\n",
    "m = p * (p - 1) / 2.\n",
    "# @show λ = 2. * sqrt(log(m) / nx)\n",
    "@show λ = 1.2 * sqrt(2. * log(m) / nx)\n",
    "θhat = spKLIEP(Ψx, Ψy, λ, CD_KLIEP())"
   ]
  },
  {
   "cell_type": "code",
   "execution_count": 155,
   "metadata": {},
   "outputs": [
    {
     "data": {
      "text/plain": [
       "4950-element ProximalBase.SparseIterate{Float64,1} with 6 stored entries:\n",
       "  [6   ]  =  0.262917\n",
       "  [691 ]  =  0.246911\n",
       "  [1451]  =  -0.196014\n",
       "  [1485]  =  0.377729\n",
       "  [4371]  =  0.292742\n",
       "  [4418]  =  0.227716\n"
      ]
     },
     "execution_count": 155,
     "metadata": {},
     "output_type": "execute_result"
    }
   ],
   "source": [
    "θhat_refit = spKLIEP_refit!(θhat, Ψx, Ψy)"
   ]
  },
  {
   "cell_type": "code",
   "execution_count": 156,
   "metadata": {},
   "outputs": [],
   "source": [
    "H = KLIEP_Hessian(θhat, Ψy);"
   ]
  },
  {
   "cell_type": "code",
   "execution_count": 157,
   "metadata": {},
   "outputs": [
    {
     "name": "stdout",
     "output_type": "stream",
     "text": [
      "  0.621243 seconds (46 allocations: 581.953 KiB)\n"
     ]
    },
    {
     "data": {
      "text/plain": [
       "4950-element ProximalBase.SparseIterate{Float64,1} with 13 stored entries:\n",
       "  [474 ]  =  -0.00441645\n",
       "  [956 ]  =  0.187956\n",
       "  [999 ]  =  -0.122054\n",
       "  [1000]  =  0.993902\n",
       "  [1045]  =  0.0108992\n",
       "  [1398]  =  0.0223237\n",
       "  [1671]  =  0.0317155\n",
       "  [1716]  =  0.0112509\n",
       "  [2095]  =  -0.00396382\n",
       "  [4007]  =  -0.00776659\n",
       "  [4153]  =  0.00267914\n",
       "  [4302]  =  -0.00739518\n",
       "  [4949]  =  0.0070642\n"
      ]
     },
     "execution_count": 157,
     "metadata": {},
     "output_type": "execute_result"
    }
   ],
   "source": [
    "@time ω = Hinv_row(H, 1000, 1.2 * sqrt(2. * log(p) / ny))"
   ]
  },
  {
   "cell_type": "code",
   "execution_count": 158,
   "metadata": {},
   "outputs": [
    {
     "name": "stdout",
     "output_type": "stream",
     "text": [
      "  0.668425 seconds (46 allocations: 581.953 KiB)\n"
     ]
    },
    {
     "data": {
      "text/plain": [
       "4950-element ProximalBase.SparseIterate{Float64,1} with 13 stored entries:\n",
       "  [474 ]  =  -0.00441643\n",
       "  [956 ]  =  0.187956\n",
       "  [999 ]  =  -0.122054\n",
       "  [1000]  =  0.993902\n",
       "  [1045]  =  0.0108992\n",
       "  [1398]  =  0.0223237\n",
       "  [1671]  =  0.0317155\n",
       "  [1716]  =  0.0112509\n",
       "  [2095]  =  -0.0039638\n",
       "  [4007]  =  -0.00776659\n",
       "  [4153]  =  0.00267912\n",
       "  [4302]  =  -0.00739518\n",
       "  [4949]  =  0.00706419\n"
      ]
     },
     "execution_count": 158,
     "metadata": {},
     "output_type": "execute_result"
    }
   ],
   "source": [
    "H = KLIEP_Hessian(θhat_refit, Ψy);\n",
    "@time ω = Hinv_row(H, 1000, 1.2 * sqrt(2. * log(p) / ny))"
   ]
  },
  {
   "cell_type": "code",
   "execution_count": 159,
   "metadata": {},
   "outputs": [
    {
     "data": {
      "text/plain": [
       "0.0"
      ]
     },
     "execution_count": 159,
     "metadata": {},
     "output_type": "execute_result"
    }
   ],
   "source": [
    "θhat[end]"
   ]
  },
  {
   "cell_type": "markdown",
   "metadata": {},
   "source": [
    "## Bootstrap"
   ]
  },
  {
   "cell_type": "code",
   "execution_count": 3,
   "metadata": {},
   "outputs": [],
   "source": [
    "p = 10\n",
    "θx = chain(p, 5, 0.2, 0.4, 0)\n",
    "θy = copy(θx)\n",
    "Δ = θx - θy;"
   ]
  },
  {
   "cell_type": "code",
   "execution_count": 10,
   "metadata": {},
   "outputs": [
    {
     "name": "stdout",
     "output_type": "stream",
     "text": [
      "λ1 = 1.2 * sqrt((2.0 * log(m)) / nx) = 0.14807557509959918\n"
     ]
    },
    {
     "data": {
      "text/plain": [
       "45-element ProximalBase.SparseIterate{Float64,1} with 1 stored entry:\n",
       "  [9 ]  =  0.173852\n"
      ]
     },
     "execution_count": 10,
     "metadata": {},
     "output_type": "execute_result"
    }
   ],
   "source": [
    "nx = 500\n",
    "ny = 500\n",
    "\n",
    "spl = IsingSampler(θx; thin=2000)\n",
    "X = rand(spl, nx)\n",
    "spl = IsingSampler(θy; thin=2000)\n",
    "Y = rand(spl, ny)\n",
    "Ψx = Ψising(X)\n",
    "Ψy = Ψising(Y)\n",
    "\n",
    "###########################\n",
    "#\n",
    "# step 1\n",
    "#\n",
    "###########################\n",
    "m = div(p * (p - 1),  2)\n",
    "@show λ1 = 1.2 * sqrt(2. * log(m) / nx)\n",
    "θhat = spKLIEP(Ψx, Ψy, λ1, CD_KLIEP())\n",
    "spKLIEP_refit!(θhat, Ψx, Ψy)"
   ]
  },
  {
   "cell_type": "code",
   "execution_count": 12,
   "metadata": {},
   "outputs": [
    {
     "name": "stdout",
     "output_type": "stream",
     "text": [
      "λ2 = 1.2 * sqrt((2.0 * log(p)) / ny) = 0.11516462189251395\n"
     ]
    },
    {
     "data": {
      "text/plain": [
       "45-element Array{SparseVector{Float64,Int64},1}:\n",
       "   [1 ]  =  1.00698\n",
       "  [2 ]  =  -0.233168\n",
       "  [6 ]  =  0.00264325                                                                 \n",
       "   [1 ]  =  -0.23503\n",
       "  [2 ]  =  0.996577\n",
       "  [3 ]  =  0.0509041\n",
       "  [4 ]  =  -0.0452249\n",
       "  [5 ]  =  0.0143176                       \n",
       "   [2 ]  =  0.0495562\n",
       "  [3 ]  =  1.03398\n",
       "  [4 ]  =  0.0089126\n",
       "  [5 ]  =  -0.0440535                                            \n",
       "   [2 ]  =  -0.054281\n",
       "  [3 ]  =  0.00342973\n",
       "  [4 ]  =  0.987\n",
       "  [5 ]  =  0.0422469\n",
       "  [7 ]  =  0.214011                          \n",
       "   [2 ]  =  0.0185334\n",
       "  [3 ]  =  -0.0541453\n",
       "  [4 ]  =  0.0379982\n",
       "  [5 ]  =  1.05772\n",
       "  [6 ]  =  -0.225856\n",
       "  [8 ]  =  0.202703   \n",
       "   [1 ]  =  0.00331428\n",
       "  [5 ]  =  -0.226548\n",
       "  [6 ]  =  1.0704\n",
       "  [9 ]  =  0.209606                                              \n",
       "   [4 ]  =  0.209784\n",
       "  [7 ]  =  0.97339\n",
       "  [8 ]  =  0.0524651                                                                   \n",
       "   [5 ]  =  0.203911\n",
       "  [7 ]  =  0.0492756\n",
       "  [8 ]  =  1.05348\n",
       "  [9 ]  =  -0.228284                                              \n",
       "   [6 ]  =  0.214557\n",
       "  [8 ]  =  -0.223808\n",
       "  [9 ]  =  1.05493\n",
       "  [10]  =  -0.0794329                                             \n",
       "   [9 ]  =  -0.0672954\n",
       "  [10]  =  1.01307                                                                                      \n",
       "   [11]  =  0.973039\n",
       "  [12]  =  0.0771788\n",
       "  [16]  =  -0.200601                                                                 \n",
       "   [11]  =  0.0767124\n",
       "  [12]  =  1.07745\n",
       "  [13]  =  -0.26624\n",
       "  [17]  =  -0.234808\n",
       "  [18]  =  0.0368152\n",
       "  [36]  =  -0.0325224   \n",
       "   [12]  =  -0.269575\n",
       "  [13]  =  1.0611\n",
       "  [14]  =  -0.0333592\n",
       "  [17]  =  0.0367592\n",
       "  [18]  =  -0.223853\n",
       "  [36]  =  -0.000199091\n",
       " ⋮                                                                                                                             \n",
       "   [23]  =  -0.0433136\n",
       "  [24]  =  -0.0194487\n",
       "  [27]  =  -0.148864\n",
       "  [34]  =  1.06073\n",
       "  [35]  =  -0.19956\n",
       "  [42]  =  -0.183289  \n",
       "   [28]  =  -0.162503\n",
       "  [34]  =  -0.195282\n",
       "  [35]  =  1.06523\n",
       "  [36]  =  0.0799383\n",
       "  [43]  =  -0.174401                        \n",
       "   [12]  =  -0.0314251\n",
       "  [13]  =  -0.0253756\n",
       "  [35]  =  0.0688952\n",
       "  [36]  =  1.03994\n",
       "  [44]  =  -0.157309                      \n",
       "   [29]  =  -0.170535\n",
       "  [37]  =  0.957006\n",
       "  [38]  =  0.0649869                                                                 \n",
       "   [30]  =  -0.179208\n",
       "  [37]  =  0.0593573\n",
       "  [38]  =  1.0417\n",
       "  [39]  =  -0.244728                                              \n",
       "   [31]  =  -0.184004\n",
       "  [38]  =  -0.246856\n",
       "  [39]  =  1.04659\n",
       "  [40]  =  -0.0598826                                            \n",
       "   [32]  =  -0.171732\n",
       "  [39]  =  -0.0681538\n",
       "  [40]  =  1.03146\n",
       "  [41]  =  0.21598                                              \n",
       "   [33]  =  -0.171782\n",
       "  [40]  =  0.212437\n",
       "  [41]  =  1.01479                                                                   \n",
       "   [34]  =  -0.189289\n",
       "  [35]  =  0.00644635\n",
       "  [42]  =  1.01314\n",
       "  [43]  =  -0.208609                                            \n",
       "   [35]  =  -0.18416\n",
       "  [42]  =  -0.206736\n",
       "  [43]  =  1.02473\n",
       "  [44]  =  0.0607767                                              \n",
       "   [36]  =  -0.160227\n",
       "  [43]  =  0.0661238\n",
       "  [44]  =  1.00074\n",
       "  [45]  =  -0.163327                                             \n",
       "   [44]  =  -0.156326\n",
       "  [45]  =  1.0185                                                                                        "
      ]
     },
     "execution_count": 12,
     "metadata": {},
     "output_type": "execute_result"
    }
   ],
   "source": [
    "###########################\n",
    "#\n",
    "# step 2\n",
    "#\n",
    "###########################\n",
    "@show λ2 = 1.2 * sqrt(2. * log(p) / ny)\n",
    "H = KLIEP_Hessian(θhat, Ψy)\n",
    "Hinv = Vector{SparseVector{Float64,Int64}}(undef, m)\n",
    "for row=1:m\n",
    "    ω = Hinv_row(H, row, λ2)\n",
    "    Hinv[row] = convert(SparseVector, ω)\n",
    "end\n",
    "Hinv;"
   ]
  },
  {
   "cell_type": "code",
   "execution_count": 17,
   "metadata": {},
   "outputs": [
    {
     "name": "stdout",
     "output_type": "stream",
     "text": [
      " 34.815428 seconds (4.56 M allocations: 16.853 GiB, 4.04% gc time)\n"
     ]
    },
    {
     "data": {
      "text/plain": [
       "KLIEPInference.BootstrapEstimates([-0.105282, 0.0941491, -0.0532218, 0.0365808, -0.0151615, 0.0243767, -0.065264, -0.0847368, 0.208561, -0.025687  …  -0.0719092, -0.0376381, 0.0138173, -0.0504173, 0.0470007, -0.0207795, 0.0828359, -0.0961714, 0.00474128, -0.0695023], [-0.0639264 -0.0978529 … -0.046997 -0.186366; 0.222893 0.038573 … 0.0813181 0.0184643; … ; 0.0149351 -0.0112558 … -0.0322472 -0.00138439; -0.0984868 -0.0101418 … 0.0457721 0.0146145])"
      ]
     },
     "execution_count": 17,
     "metadata": {},
     "output_type": "execute_result"
    }
   ],
   "source": [
    "###########################\n",
    "#\n",
    "# step 3\n",
    "#\n",
    "###########################\n",
    "\n",
    "@time res = boot_spKLIEP(Ψx, Ψy, θhat, Hinv; bootSamples=300)"
   ]
  },
  {
   "cell_type": "code",
   "execution_count": 18,
   "metadata": {},
   "outputs": [
    {
     "data": {
      "text/plain": [
       "45×2 Array{Float64,2}:\n",
       " -0.322477   0.111914\n",
       " -0.130273   0.318571\n",
       " -0.278773   0.172329\n",
       " -0.193044   0.266206\n",
       " -0.253919   0.223596\n",
       " -0.20923    0.257983\n",
       " -0.286838   0.15631 \n",
       " -0.319779   0.150306\n",
       " -0.0202568  0.437378\n",
       " -0.243312   0.191938\n",
       " -0.223985   0.231242\n",
       " -0.313997   0.198683\n",
       " -0.240567   0.292344\n",
       "  ⋮                  \n",
       " -0.241307   0.261789\n",
       " -0.279858   0.185779\n",
       " -0.316533   0.172714\n",
       " -0.273626   0.19835 \n",
       " -0.227656   0.255291\n",
       " -0.304347   0.203512\n",
       " -0.157771   0.251772\n",
       " -0.251827   0.210268\n",
       " -0.153458   0.319129\n",
       " -0.330435   0.138092\n",
       " -0.21885    0.228333\n",
       " -0.292754   0.153749"
      ]
     },
     "execution_count": 18,
     "metadata": {},
     "output_type": "execute_result"
    }
   ],
   "source": [
    "simulCIstudentized(res)"
   ]
  },
  {
   "cell_type": "code",
   "execution_count": null,
   "metadata": {},
   "outputs": [],
   "source": []
  }
 ],
 "metadata": {
  "kernelspec": {
   "display_name": "Julia 1.0.1",
   "language": "julia",
   "name": "julia-1.0"
  },
  "language_info": {
   "file_extension": ".jl",
   "mimetype": "application/julia",
   "name": "julia",
   "version": "1.0.1"
  }
 },
 "nbformat": 4,
 "nbformat_minor": 2
}
