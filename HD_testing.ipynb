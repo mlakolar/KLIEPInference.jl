{
 "cells": [
  {
   "cell_type": "code",
   "execution_count": 1,
   "metadata": {},
   "outputs": [],
   "source": [
    "using Revise\n",
    "using KLIEPInference\n",
    "using Distributions\n",
    "using LinearAlgebra\n",
    "using BenchmarkTools"
   ]
  },
  {
   "cell_type": "code",
   "execution_count": 141,
   "metadata": {},
   "outputs": [
    {
     "data": {
      "text/plain": [
       "4-element Array{Int64,1}:\n",
       "    6\n",
       " 1485\n",
       " 1540\n",
       " 4371"
      ]
     },
     "execution_count": 141,
     "metadata": {},
     "output_type": "execute_result"
    }
   ],
   "source": [
    "p = 100\n",
    "θx = chain(p, 10, 0.2, 0.4, 0)\n",
    "θy = copy(θx)\n",
    "removeEdges!(θy, 4)\n",
    "Δ = θx - θy\n",
    "ind_nz = findall(!iszero, Δ)"
   ]
  },
  {
   "cell_type": "code",
   "execution_count": 142,
   "metadata": {},
   "outputs": [
    {
     "data": {
      "text/plain": [
       "4-element Array{Float64,1}:\n",
       " 0.33825496914877096\n",
       " 0.3672520676397463 \n",
       " 0.22772231427944836\n",
       " 0.2007802021942048 "
      ]
     },
     "execution_count": 142,
     "metadata": {},
     "output_type": "execute_result"
    }
   ],
   "source": [
    "Δ[ind_nz]"
   ]
  },
  {
   "cell_type": "code",
   "execution_count": 112,
   "metadata": {},
   "outputs": [
    {
     "data": {
      "text/plain": [
       "50×50 Array{Float64,2}:\n",
       " 0.0       0.516424  0.0       0.0       …  0.0       0.0       0.0     \n",
       " 0.516424  0.0       0.408377  0.0          0.0       0.0       0.0     \n",
       " 0.0       0.408377  0.0       0.476824     0.0       0.0       0.0     \n",
       " 0.0       0.0       0.476824  0.0          0.0       0.0       0.0     \n",
       " 0.0       0.0       0.0       0.458486     0.0       0.0       0.0     \n",
       " 0.0       0.0       0.0       0.0       …  0.0       0.0       0.0     \n",
       " 0.0       0.0       0.0       0.0          0.0       0.0       0.0     \n",
       " 0.0       0.0       0.0       0.0          0.0       0.0       0.0     \n",
       " 0.0       0.0       0.0       0.0          0.0       0.0       0.0     \n",
       " 0.0       0.0       0.0       0.0          0.0       0.0       0.0     \n",
       " 0.0       0.0       0.0       0.0       …  0.0       0.0       0.0     \n",
       " 0.0       0.0       0.0       0.0          0.0       0.0       0.0     \n",
       " 0.0       0.0       0.0       0.0          0.0       0.0       0.0     \n",
       " ⋮                                       ⋱                              \n",
       " 0.0       0.0       0.0       0.0          0.0       0.0       0.0     \n",
       " 0.0       0.0       0.0       0.0          0.0       0.0       0.0     \n",
       " 0.0       0.0       0.0       0.0       …  0.0       0.0       0.0     \n",
       " 0.0       0.0       0.0       0.0          0.0       0.0       0.0     \n",
       " 0.0       0.0       0.0       0.0          0.0       0.0       0.0     \n",
       " 0.0       0.0       0.0       0.0          0.0       0.0       0.0     \n",
       " 0.0       0.0       0.0       0.0          0.0       0.0       0.0     \n",
       " 0.0       0.0       0.0       0.0       …  0.0       0.0       0.0     \n",
       " 0.0       0.0       0.0       0.0          0.590532  0.0       0.0     \n",
       " 0.0       0.0       0.0       0.0          0.0       0.469032  0.0     \n",
       " 0.0       0.0       0.0       0.0          0.469032  0.0       0.494397\n",
       " 0.0       0.0       0.0       0.0          0.0       0.494397  0.0     "
      ]
     },
     "execution_count": 112,
     "metadata": {},
     "output_type": "execute_result"
    }
   ],
   "source": [
    "unpack(θx)"
   ]
  },
  {
   "cell_type": "code",
   "execution_count": 85,
   "metadata": {},
   "outputs": [
    {
     "data": {
      "text/plain": [
       "5×5 Array{Float64,2}:\n",
       " 0.0       0.497204  0.0       0.0       0.0\n",
       " 0.497204  0.0       0.0       0.0       0.0\n",
       " 0.0       0.0       0.0       0.595112  0.0\n",
       " 0.0       0.0       0.595112  0.0       0.0\n",
       " 0.0       0.0       0.0       0.0       0.0"
      ]
     },
     "execution_count": 85,
     "metadata": {},
     "output_type": "execute_result"
    }
   ],
   "source": [
    "unpack(θy)"
   ]
  },
  {
   "cell_type": "code",
   "execution_count": 143,
   "metadata": {},
   "outputs": [],
   "source": [
    "nx = 500\n",
    "ny = 500\n",
    "spl = IsingSampler(θx; thin=1000)\n",
    "X = rand(spl, nx)\n",
    "spl = IsingSampler(θy; thin=1000)\n",
    "Y = rand(spl, ny)\n",
    "Ψx = Ψising(X)\n",
    "Ψy = Ψising(Y);"
   ]
  },
  {
   "cell_type": "code",
   "execution_count": 144,
   "metadata": {},
   "outputs": [
    {
     "name": "stdout",
     "output_type": "stream",
     "text": [
      "λ = 1.2 * sqrt((2.0 * log(m)) / nx) = 0.22136201762732774\n"
     ]
    },
    {
     "data": {
      "text/plain": [
       "4950-element ProximalBase.SparseIterate{Float64,1} with 6 stored entries:\n",
       "  [6   ]  =  0.0639473\n",
       "  [691 ]  =  0.0255212\n",
       "  [1451]  =  -0.00914313\n",
       "  [1485]  =  0.124683\n",
       "  [4371]  =  0.0837854\n",
       "  [4418]  =  0.0221621\n"
      ]
     },
     "execution_count": 144,
     "metadata": {},
     "output_type": "execute_result"
    }
   ],
   "source": [
    "# @show σ = maximum( sqrt.( nx * var(Ψx; dims=2) + ny * var(Ψy; dims=2) ) ) / sqrt(nx + ny)\n",
    "m = p * (p - 1) / 2.\n",
    "# @show λ = 2. * sqrt(log(m) / nx)\n",
    "@show λ = 1.2 * sqrt(2. * log(m) / nx)\n",
    "θhat = spKLIEP(Ψx, Ψy, λ, CD_KLIEP())"
   ]
  },
  {
   "cell_type": "code",
   "execution_count": 123,
   "metadata": {},
   "outputs": [],
   "source": [
    "H = KLIEP_Hessian(θhat, Ψy);"
   ]
  },
  {
   "cell_type": "code",
   "execution_count": 127,
   "metadata": {},
   "outputs": [
    {
     "name": "stdout",
     "output_type": "stream",
     "text": [
      "  0.518345 seconds (41 allocations: 504.391 KiB)\n"
     ]
    },
    {
     "data": {
      "text/plain": [
       "4950-element ProximalBase.SparseIterate{Float64,1} with 5 stored entries:\n",
       "  [5   ]  =  -0.17333\n",
       "  [6   ]  =  1.02486\n",
       "  [9   ]  =  -0.118991\n",
       "  [2497]  =  0.00778956\n",
       "  [3225]  =  -0.000652763\n"
      ]
     },
     "execution_count": 127,
     "metadata": {},
     "output_type": "execute_result"
    }
   ],
   "source": [
    "@time Hinv_row(H, 6, 1.2 * sqrt(2. * log(p) / ny))"
   ]
  },
  {
   "cell_type": "code",
   "execution_count": null,
   "metadata": {},
   "outputs": [],
   "source": []
  }
 ],
 "metadata": {
  "kernelspec": {
   "display_name": "Julia 1.0.1",
   "language": "julia",
   "name": "julia-1.0"
  },
  "language_info": {
   "file_extension": ".jl",
   "mimetype": "application/julia",
   "name": "julia",
   "version": "1.0.1"
  }
 },
 "nbformat": 4,
 "nbformat_minor": 2
}
