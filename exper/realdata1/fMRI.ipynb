{
 "cells": [
  {
   "cell_type": "markdown",
   "metadata": {},
   "source": [
    "# Alertness and motor control, an fMRI study"
   ]
  },
  {
   "cell_type": "code",
   "execution_count": 1,
   "metadata": {},
   "outputs": [],
   "source": [
    "using KLIEPInference\n",
    "using ProximalBase, CoordinateDescent\n",
    "using LinearAlgebra, SparseArrays, Statistics\n",
    "using Distributions, StatsBase, JLD\n",
    "using DelimitedFiles"
   ]
  },
  {
   "cell_type": "code",
   "execution_count": 2,
   "metadata": {},
   "outputs": [],
   "source": [
    "# read data from .csv files\n",
    "data_HC, nodenames = readdlm(\"HC_ROI_bold_readings.csv\", ',', Float64, '\\n'; header=true)\n",
    "data_MS, nodenames = readdlm(\"MS_ROI_bold_readings.csv\", ',', Float64, '\\n'; header=true)\n",
    "\n",
    "# pre-specified ROIs\n",
    "ROIs = [\"Precentral_L\", \"Frontal_Sup_Orb_L\", \"Frontal_Sup_Orb_R\", \"Frontal_Mid_L\", \"Frontal_Mid_Orb_L\",\n",
    "    \"Olfactory_L\", \"Olfactory_R\", \"Frontal_Med_Orb_L\", \"Frontal_Med_Orb_R\", \"Rectus_L\", \"Rectus_R\",\n",
    "    \"Hippocampus_R\", \"Amygdala_L\", \"Parietal_Inf_L\", \"SupraMarginal_L\", \"Paracentral_Lobule_L\", \"Pallidum_L\",\n",
    "    \"Cerebelum_Crus2_R\", \"Cerebelum_3_L\", \"Cerebelum_3_R\", \"Cerebelum_10_L\", \"Cerebelum_10_R\", \"Vermis_1_2\",\n",
    "    \"Vermis_6\", \"Vermis_10\"]\n",
    "\n",
    "ROIs_ind = zeros(Int, length(ROIs))\n",
    "for i = 1:length(ROIs)\n",
    "    ROIs_ind[i] = findfirst(isequal(ROIs[i]), nodenames)[2]\n",
    "end\n",
    "sort!(ROIs_ind);"
   ]
  },
  {
   "cell_type": "code",
   "execution_count": 3,
   "metadata": {},
   "outputs": [
    {
     "data": {
      "text/plain": [
       "T3ind (generic function with 1 method)"
      ]
     },
     "execution_count": 3,
     "metadata": {},
     "output_type": "execute_result"
    }
   ],
   "source": [
    "T1ind(t) = convert.(Bool, ( 81 .<= t .<= 160) + (313 .<= t .<= 390) + (546 .<= t .<= 623) + (778 .<= t .<= 855))\n",
    "T2ind(t) = convert.(Bool, (165 .<= t .<= 233) + (241 .<= t .<= 308) + (632 .<= t .<= 700) + (705 .<= t .<= 775))\n",
    "T3ind(t) = convert.(Bool, (  9 .<= t .<=  80) + (400 .<= t .<= 467) + (470 .<= t .<= 540) + (860 .<= t .<= 933))"
   ]
  },
  {
   "cell_type": "code",
   "execution_count": 4,
   "metadata": {},
   "outputs": [
    {
     "data": {
      "text/plain": [
       "center (generic function with 1 method)"
      ]
     },
     "execution_count": 4,
     "metadata": {},
     "output_type": "execute_result"
    }
   ],
   "source": [
    "center(X) = broadcast.(-, X, mean(X, dims=1))"
   ]
  },
  {
   "cell_type": "code",
   "execution_count": 5,
   "metadata": {},
   "outputs": [
    {
     "data": {
      "text/plain": [
       "unpack (generic function with 1 method)"
      ]
     },
     "execution_count": 5,
     "metadata": {},
     "output_type": "execute_result"
    }
   ],
   "source": [
    "function ψlinear(X)\n",
    "    m, n = size(X)\n",
    "    p = div(m * (m + 1), 2)\n",
    "    out = zeros(Float64, p, n)\n",
    "    for i = 1:n\n",
    "        ind = 0\n",
    "        for row = 1:m\n",
    "            for col = 1:row\n",
    "                ind += 1\n",
    "                out[ind, i] = X[col, i] * X[row, i]\n",
    "            end\n",
    "        end\n",
    "    end\n",
    "    out\n",
    "end\n",
    "\n",
    "function trimap(i, j; diagonal=true)\n",
    "    if i > j\n",
    "        return trimap(j, i)\n",
    "    else\n",
    "        return i + div(j * (j - 1), 2)\n",
    "    end\n",
    "end\n",
    "\n",
    "function itrimap(k; diagonal=true)\n",
    "    j = convert(Int, ceil((-1. + sqrt(1. + 8. * k)) / 2.))\n",
    "    i = k - div(j * (j - 1), 2)\n",
    "    CartesianIndex(i, j)\n",
    "end\n",
    "\n",
    "function unpack(θ; diagonal=true)\n",
    "    p = length(θ)\n",
    "    m = convert(Int, ceil((-1. + sqrt(1. + 8. * p)) / 2.))\n",
    "    out = zeros(m, m)\n",
    "    for k = 1:p\n",
    "        out[itrimap(k, diagonal=true)] = θ[k]\n",
    "    end\n",
    "    out + out' - diagm(diag(out))\n",
    "end"
   ]
  },
  {
   "cell_type": "code",
   "execution_count": 6,
   "metadata": {},
   "outputs": [
    {
     "data": {
      "text/plain": [
       "equal_graph_test (generic function with 1 method)"
      ]
     },
     "execution_count": 6,
     "metadata": {},
     "output_type": "execute_result"
    }
   ],
   "source": [
    "function equal_graph_test(data)\n",
    "    # extract time stamps\n",
    "    t = data[:, end]\n",
    "\n",
    "    # divide by task\n",
    "    T1 = data[T1ind(t), ROIs_ind]\n",
    "    T2 = data[T2ind(t), ROIs_ind]\n",
    "    T3 = data[T3ind(t), ROIs_ind]\n",
    "\n",
    "    # center\n",
    "    T1 = center(T1)\n",
    "    T2 = center(T2)\n",
    "    T3 = center(T3)\n",
    "\n",
    "    # apply ψ\n",
    "    ΨT1 = ψlinear(T1')\n",
    "    ΨT2 = ψlinear(T2')\n",
    "    ΨT3 = ψlinear(T3')\n",
    "\n",
    "    p, ny = size(ΨT1)\n",
    "    λ1 = 1.01 * quantile(Normal(), 1. - 0.05 / p)\n",
    "    λ2 = sqrt(2. * log(p) / ny)\n",
    "\n",
    "    @show p size(ΨT1, 2) size(ΨT2, 2) size(ΨT3, 2)\n",
    "\n",
    "    println(\"step 2 for T1 vs T2 and T1 vs T3\")\n",
    "    H = KLIEP_Hessian(spzeros(Float64, p), ΨT1)\n",
    "    Hinv = Vector{SparseIterate{Float64}}(undef, p)\n",
    "    for k in 1:p\n",
    "        ω = Hinv_row(H, k, λ2)\n",
    "\n",
    "        supp = KLIEPInference._find_supp(k, ω)\n",
    "        h = view(H, supp, supp)\n",
    "        δ = (supp .=== k)\n",
    "        ω[supp] = h\\δ\n",
    "\n",
    "        Hinv[k] = ω\n",
    "    end\n",
    "\n",
    "    println(\"T1 vs T2\")\n",
    "    θ = spKLIEP(ΨT2, ΨT1, λ1, CD_KLIEP(); loadings=true)\n",
    "    boot1_T1_vs_T2, boot2_T1_vs_T2 = boot_SparKLIE(ΨT2, ΨT1, θ, Hinv)\n",
    "\n",
    "    println(\"T1 vs T3\")\n",
    "    θ = spKLIEP(ΨT3, ΨT1, λ1, CD_KLIEP(); loadings=true)\n",
    "    boot1_T1_vs_T3, boot2_T1_vs_T3 = boot_SparKLIE(ΨT3, ΨT1, θ, Hinv)\n",
    "\n",
    "    println(\"step 2 for T2 vs T3\")\n",
    "    H = KLIEP_Hessian(spzeros(Float64, p), ΨT3)\n",
    "    Hinv = Vector{SparseIterate{Float64}}(undef, p)\n",
    "    for k in 1:p\n",
    "        ω = Hinv_row(H, k, λ2)\n",
    "\n",
    "        supp = KLIEPInference._find_supp(k, ω)\n",
    "        h = view(H, supp, supp)\n",
    "        δ = (supp .=== k)\n",
    "        ω[supp] = h\\δ\n",
    "\n",
    "        Hinv[k] = ω\n",
    "    end\n",
    "\n",
    "    println(\"T2 vs T3\")\n",
    "    θ = spKLIEP(ΨT2, ΨT3, λ1, CD_KLIEP(); loadings=true)\n",
    "    boot1_T2_vs_T3, boot2_T2_vs_T3 = boot_SparKLIE(ΨT2, ΨT3, θ, Hinv)\n",
    "\n",
    "    BootstrapEstimates(vcat(boot1_T1_vs_T2.θhat, boot1_T1_vs_T3.θhat, boot1_T2_vs_T3.θhat),\n",
    "        vcat(boot1_T1_vs_T2.θb, boot1_T1_vs_T3.θb, boot1_T2_vs_T3.θb)), BootstrapEstimates(\n",
    "        vcat(boot2_T1_vs_T2.θhat, boot2_T1_vs_T3.θhat, boot2_T2_vs_T3.θhat),\n",
    "        vcat(boot2_T1_vs_T2.θb, boot2_T1_vs_T3.θb, boot2_T2_vs_T3.θb))\n",
    "end"
   ]
  },
  {
   "cell_type": "code",
   "execution_count": 7,
   "metadata": {
    "scrolled": true
   },
   "outputs": [
    {
     "name": "stdout",
     "output_type": "stream",
     "text": [
      "p = 325\n",
      "size(ΨT1, 2) = 342\n",
      "size(ΨT2, 2) = 300\n",
      "size(ΨT3, 2) = 306\n",
      "step 2 for T1 vs T2 and T1 vs T3\n",
      "T1 vs T2\n",
      "T1 vs T3\n",
      "step 2 for T2 vs T3\n",
      "T2 vs T3\n"
     ]
    }
   ],
   "source": [
    "boot1_HC, boot2_HC = equal_graph_test(data_HC);"
   ]
  },
  {
   "cell_type": "code",
   "execution_count": 8,
   "metadata": {},
   "outputs": [
    {
     "name": "stdout",
     "output_type": "stream",
     "text": [
      "p = 325\n",
      "size(ΨT1, 2) = 342\n",
      "size(ΨT2, 2) = 300\n",
      "size(ΨT3, 2) = 311\n",
      "step 2 for T1 vs T2 and T1 vs T3\n",
      "T1 vs T2\n",
      "T1 vs T3\n",
      "step 2 for T2 vs T3\n",
      "T2 vs T3\n"
     ]
    }
   ],
   "source": [
    "boot1_MS, boot2_MS = equal_graph_test(data_MS);"
   ]
  },
  {
   "cell_type": "code",
   "execution_count": 9,
   "metadata": {},
   "outputs": [],
   "source": [
    "boot = BootstrapEstimates(vcat(boot1_HC.θhat, boot1_MS.θhat), vcat(boot1_HC.θb, boot1_MS.θb))\n",
    "CI = simulCI(boot, 0.05)\n",
    "δ1 = boot.θhat .* broadcast(|, CI[:, 1] .> 0., CI[:, 2] .< 0.)\n",
    "\n",
    "boot = BootstrapEstimates(vcat(boot2_HC.θhat, boot2_MS.θhat), vcat(boot2_HC.θb, boot2_MS.θb))\n",
    "CI = simulCI(boot, 0.05)\n",
    "δ2 = boot.θhat .* broadcast(|, CI[:, 1] .> 0., CI[:, 2] .< 0.);"
   ]
  },
  {
   "cell_type": "code",
   "execution_count": 10,
   "metadata": {},
   "outputs": [
    {
     "name": "stdout",
     "output_type": "stream",
     "text": [
      "HC_T1_vs_T2\n",
      "count(!iszero, Δ1) = 0\n",
      "count(!iszero, Δ2) = 0\n",
      "HC_T1_vs_T3\n",
      "count(!iszero, Δ1) = 0\n",
      "count(!iszero, Δ2) = 0\n",
      "HC_T2_vs_T3\n",
      "count(!iszero, Δ1) = 0\n",
      "count(!iszero, Δ2) = 0\n",
      "MS_T1_vs_T2\n",
      "count(!iszero, Δ1) = 0\n",
      "count(!iszero, Δ2) = 0\n",
      "MS_T1_vs_T3\n",
      "count(!iszero, Δ1) = 0\n",
      "count(!iszero, Δ2) = 0\n",
      "MS_T2_vs_T3\n",
      "count(!iszero, Δ1) = 0\n",
      "count(!iszero, Δ2) = 0\n"
     ]
    }
   ],
   "source": [
    "p = div(length(ROIs) * (length(ROIs) + 1), 2)\n",
    "compare = [\"HC_T1_vs_T2\", \"HC_T1_vs_T3\", \"HC_T2_vs_T3\", \"MS_T1_vs_T2\", \"MS_T1_vs_T3\", \"MS_T2_vs_T3\"]\n",
    "for i = 1:6\n",
    "    Δ1 = δ1[((i - 1) * p + 1):(i * p)]\n",
    "    Δ2 = δ2[((i - 1) * p + 1):(i * p)]\n",
    "    println(compare[i])\n",
    "    @save \"res_$(compare[i]).jld\" Δ1 Δ2\n",
    "    @show count(!iszero, Δ1)\n",
    "    @show count(!iszero, Δ2)\n",
    "end"
   ]
  }
 ],
 "metadata": {
  "kernelspec": {
   "display_name": "JuliaPro_v1.5.3-1 1.5.3",
   "language": "julia",
   "name": "juliapro_v1.5.3-1-1.5"
  },
  "language_info": {
   "file_extension": ".jl",
   "mimetype": "application/julia",
   "name": "julia",
   "version": "1.5.3"
  }
 },
 "nbformat": 4,
 "nbformat_minor": 2
}
