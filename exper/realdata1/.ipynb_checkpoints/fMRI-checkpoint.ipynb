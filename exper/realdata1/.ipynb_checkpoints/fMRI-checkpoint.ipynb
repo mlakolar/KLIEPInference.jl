{
 "cells": [
  {
   "cell_type": "markdown",
   "metadata": {},
   "source": [
    "# Alertness and motor control, an fMRI study"
   ]
  },
  {
   "cell_type": "markdown",
   "metadata": {},
   "source": [
    "## Data pre-processing"
   ]
  },
  {
   "cell_type": "code",
   "execution_count": 1,
   "metadata": {},
   "outputs": [],
   "source": [
    "using Statistics, DelimitedFiles, JLD"
   ]
  },
  {
   "cell_type": "code",
   "execution_count": 2,
   "metadata": {},
   "outputs": [
    {
     "data": {
      "text/plain": [
       "T3ind (generic function with 1 method)"
      ]
     },
     "execution_count": 2,
     "metadata": {},
     "output_type": "execute_result"
    }
   ],
   "source": [
    "T1ind(t) = convert.(Bool, ( 81 .<= t .<= 160) + (313 .<= t .<= 390) + (546 .<= t .<= 623) + (778 .<= t .<= 855))\n",
    "T2ind(t) = convert.(Bool, (165 .<= t .<= 233) + (241 .<= t .<= 308) + (632 .<= t .<= 700) + (705 .<= t .<= 775))\n",
    "T3ind(t) = convert.(Bool, (  9 .<= t .<=  80) + (400 .<= t .<= 467) + (470 .<= t .<= 540) + (860 .<= t .<= 933))"
   ]
  },
  {
   "cell_type": "code",
   "execution_count": 3,
   "metadata": {},
   "outputs": [
    {
     "data": {
      "text/plain": [
       "center (generic function with 1 method)"
      ]
     },
     "execution_count": 3,
     "metadata": {},
     "output_type": "execute_result"
    }
   ],
   "source": [
    "center(X) = broadcast.(-, X, mean(X, dims=1))"
   ]
  },
  {
   "cell_type": "code",
   "execution_count": 4,
   "metadata": {},
   "outputs": [],
   "source": [
    "# read the data from .csv files\n",
    "data_HC, nodenames = readdlm(\"HC_ROI_bold_readings.csv\", ',', Float64, '\\n'; header=true)\n",
    "data_MS, nodenames = readdlm(\"MS_ROI_bold_readings.csv\", ',', Float64, '\\n'; header=true)\n",
    "\n",
    "# extract time stamps in the last column\n",
    "time_HC = data_HC[:,end]\n",
    "time_MS = data_MS[:,end]\n",
    "\n",
    "# extract measurements from a pre-specified subset of ROIs\n",
    "nodenames = dropdims(nodenames; dims=1)\n",
    "\n",
    "ROI_sub = [\"Precentral_L\",\"Frontal_Sup_Orb_L\",\"Frontal_Sup_Orb_R\",\"Frontal_Mid_L\",\"Frontal_Mid_Orb_L\",\"Olfactory_L\",\n",
    "    \"Olfactory_R\",\"Frontal_Med_Orb_L\",\"Frontal_Med_Orb_R\",\"Rectus_L\",\"Rectus_R\",\"Hippocampus_R\",\"Amygdala_L\",\n",
    "    \"Parietal_Inf_L\",\"SupraMarginal_L\",\"Paracentral_Lobule_L\",\"Pallidum_L\",\"Cerebelum_Crus2_R\",\"Cerebelum_3_L\",\n",
    "    \"Cerebelum_3_R\",\"Cerebelum_10_L\",\"Cerebelum_10_R\",\"Vermis_1_2\",\"Vermis_6\",\"Vermis_10\"]\n",
    "\n",
    "m = length(ROI_sub)\n",
    "\n",
    "ROI_sub_ind = zeros(Int,0)\n",
    "for i = 1:m\n",
    "    push!(ROI_sub_ind, findfirst(nodenames .== ROI_sub[i]))\n",
    "end\n",
    "\n",
    "HCT1 = data_HC[T1ind(time_HC),ROI_sub_ind]\n",
    "HCT2 = data_HC[T2ind(time_HC),ROI_sub_ind]\n",
    "HCT3 = data_HC[T3ind(time_HC),ROI_sub_ind]\n",
    "MST1 = data_MS[T1ind(time_MS),ROI_sub_ind]\n",
    "MST2 = data_MS[T2ind(time_MS),ROI_sub_ind]\n",
    "MST3 = data_MS[T3ind(time_MS),ROI_sub_ind]\n",
    "\n",
    "# center each sample\n",
    "HCT1 = center(HCT1)\n",
    "HCT2 = center(HCT2)\n",
    "HCT3 = center(HCT3)\n",
    "MST1 = center(MST1)\n",
    "MST2 = center(MST2)\n",
    "MST3 = center(MST3);"
   ]
  },
  {
   "cell_type": "markdown",
   "metadata": {},
   "source": [
    "## Simultaneous equal graph tests"
   ]
  },
  {
   "cell_type": "code",
   "execution_count": 5,
   "metadata": {},
   "outputs": [],
   "source": [
    "using KLIEPInference\n",
    "using ProximalBase, CoordinateDescent\n",
    "using Distributions\n",
    "using LinearAlgebra, SparseArrays\n",
    "using PyPlot"
   ]
  },
  {
   "cell_type": "code",
   "execution_count": 6,
   "metadata": {},
   "outputs": [
    {
     "data": {
      "text/plain": [
       "equal_graph_test (generic function with 1 method)"
      ]
     },
     "execution_count": 6,
     "metadata": {},
     "output_type": "execute_result"
    }
   ],
   "source": [
    "function ψlinear(X)\n",
    "    m, n = size(X)\n",
    "    p = div(m * (m + 1), 2)\n",
    "    out = zeros(Float64, p, n)\n",
    "    for i = 1:n\n",
    "        ind = 0\n",
    "        for row = 1:m\n",
    "            for col = 1:row\n",
    "                ind += 1\n",
    "                out[ind,i] = X[col,i]*X[row,i]\n",
    "            end\n",
    "        end\n",
    "    end\n",
    "    out\n",
    "end\n",
    "\n",
    "function itrimap(k; diagonal=true)\n",
    "    j = convert(Int, ceil((-1. + sqrt(1. + 8. * k)) / 2.))\n",
    "    i = k - div(j * (j - 1), 2)\n",
    "    CartesianIndex(i, j)\n",
    "end\n",
    "\n",
    "function unpack(θ; diagonal=true)\n",
    "    p = length(θ)\n",
    "    m = convert(Int, ceil((-1. + sqrt(1. + 8. * p)) / 2.))\n",
    "    out = zeros(m, m)\n",
    "    for k = 1:p\n",
    "        out[itrimap(k; diagonal=true)] = θ[k]\n",
    "    end\n",
    "    out + out' - diagm(diag(out))\n",
    "end\n",
    "\n",
    "function equal_graph_test(Ψx, Ψy)\n",
    "    p, nx = size(Ψx)\n",
    "    ny = size(Ψy, 2)\n",
    "    \n",
    "    println(\"step 1\")\n",
    "    λ1 = 1.01 * quantile(Normal(), 1. - 0.05 / p)\n",
    "    θ = spKLIEP(Ψx, Ψy, λ1, CD_KLIEP(); loadings=true)\n",
    "    supp = findall(!iszero, θ)\n",
    "    θ[supp] = KLIEP(Ψx[supp, :], Ψy[supp, :], CD_KLIEP())\n",
    "    \n",
    "    println(\"step 2\")\n",
    "    λ2 = sqrt(2. * log(p) / ny)\n",
    "    H = KLIEP_Hessian(spzeros(Float64, p), Ψy)\n",
    "    Hinv = Vector{SparseIterate{Float64}}(undef, p)\n",
    "    for k = 1:p\n",
    "        ω = Hinv_row(H, k, λ2)\n",
    "        \n",
    "        Sk = sort(union(k, findall(!iszero, ω)))\n",
    "        Hk = view(H, Sk, Sk)\n",
    "        δk = (Sk .== k)\n",
    "        ω[Sk] = Hk\\δk\n",
    "        \n",
    "        Hinv[k] = ω\n",
    "    end\n",
    "    \n",
    "    println(\"step 3 + bootstrap...\")\n",
    "    boot = boot_SparKLIE1(Ψx, Ψy, θ, Hinv)\n",
    "    \n",
    "    CI = simulCI(boot, 0.05)\n",
    "    \n",
    "    boot.θhat .* broadcast(|, CI[:,1] .> 0., CI[:,2] .< 0.)\n",
    "end"
   ]
  },
  {
   "cell_type": "code",
   "execution_count": 7,
   "metadata": {},
   "outputs": [
    {
     "name": "stdout",
     "output_type": "stream",
     "text": [
      "p = 325\n",
      "nHCT1 = 342\n",
      "nHCT2 = 300\n",
      "nHCT3 = 306\n",
      "nMST1 = 342\n",
      "nMST2 = 300\n",
      "nMST3 = 311\n"
     ]
    }
   ],
   "source": [
    "ΨHCT1 = ψlinear(HCT1')\n",
    "ΨHCT2 = ψlinear(HCT2')\n",
    "ΨHCT3 = ψlinear(HCT3')\n",
    "ΨMST1 = ψlinear(MST1')\n",
    "ΨMST2 = ψlinear(MST2')\n",
    "ΨMST3 = ψlinear(MST3')\n",
    "\n",
    "p, nHCT1 = size(ΨHCT1)\n",
    "nHCT2 = size(ΨHCT2, 2)\n",
    "nHCT3 = size(ΨHCT3, 2)\n",
    "nMST1 = size(ΨMST1, 2)\n",
    "nMST2 = size(ΨMST2, 2)\n",
    "nMST3 = size(ΨMST3, 2)\n",
    "\n",
    "@show p nHCT1 nHCT2 nHCT3 nMST1 nMST2 nMST3;"
   ]
  },
  {
   "cell_type": "code",
   "execution_count": 8,
   "metadata": {},
   "outputs": [
    {
     "name": "stdout",
     "output_type": "stream",
     "text": [
      "step 1\n",
      "step 2\n",
      "step 3 + bootstrap...\n"
     ]
    }
   ],
   "source": [
    "δ_HCT1_vs_HCT2 = equal_graph_test(ΨHCT2, ΨHCT1);"
   ]
  },
  {
   "cell_type": "code",
   "execution_count": 9,
   "metadata": {},
   "outputs": [
    {
     "name": "stdout",
     "output_type": "stream",
     "text": [
      "count(!iszero, δ_HCT1_vs_HCT2) = 1\n"
     ]
    }
   ],
   "source": [
    "@show count(!iszero, δ_HCT1_vs_HCT2);"
   ]
  },
  {
   "cell_type": "code",
   "execution_count": 10,
   "metadata": {},
   "outputs": [],
   "source": [
    "Δ = unpack(δ_HCT1_vs_HCT2; diagonal=true)\n",
    "\n",
    "fig = figure(figsize=(6,6), dpi=300)\n",
    "\n",
    "ax = fig.add_subplot(111)\n",
    "cax = ax.spy(Δ)\n",
    "xticks(0:m-1, ROI_sub)\n",
    "yticks(0:m-1, ROI_sub)\n",
    "tick_params(axis=\"x\", labelsize=4, rotation=90)\n",
    "tick_params(axis=\"y\", labelsize=4)\n",
    "grid(ls=\"dotted\")\n",
    "\n",
    "savefig(\"/Users/byolkim/Documents/KLIEP_inference/draft/revision_v3/fMRI_HCT1_vs_HCT2.png\")\n",
    "close(fig)"
   ]
  },
  {
   "cell_type": "code",
   "execution_count": 11,
   "metadata": {},
   "outputs": [
    {
     "name": "stdout",
     "output_type": "stream",
     "text": [
      "step 1\n",
      "step 2\n",
      "step 3 + bootstrap...\n"
     ]
    }
   ],
   "source": [
    "δ_HCT1_vs_HCT3 = equal_graph_test(ΨHCT3, ΨHCT1);"
   ]
  },
  {
   "cell_type": "code",
   "execution_count": 12,
   "metadata": {},
   "outputs": [
    {
     "name": "stdout",
     "output_type": "stream",
     "text": [
      "count(!iszero, δ_HCT1_vs_HCT3) = 0\n"
     ]
    }
   ],
   "source": [
    "@show count(!iszero, δ_HCT1_vs_HCT3);"
   ]
  },
  {
   "cell_type": "code",
   "execution_count": 13,
   "metadata": {},
   "outputs": [],
   "source": [
    "Δ = unpack(δ_HCT1_vs_HCT3; diagonal=true)\n",
    "\n",
    "fig = figure(figsize=(6,6), dpi=300)\n",
    "\n",
    "ax = fig.add_subplot(111)\n",
    "cax = ax.spy(Δ)\n",
    "xticks(0:m-1, ROI_sub)\n",
    "yticks(0:m-1, ROI_sub)\n",
    "tick_params(axis=\"x\", labelsize=4, rotation=90)\n",
    "tick_params(axis=\"y\", labelsize=4)\n",
    "grid(ls=\"dotted\")\n",
    "\n",
    "savefig(\"/Users/byolkim/Documents/KLIEP_inference/draft/revision_v3/fMRI_HCT1_vs_HCT3.png\")\n",
    "close(fig)"
   ]
  },
  {
   "cell_type": "code",
   "execution_count": 14,
   "metadata": {},
   "outputs": [
    {
     "name": "stdout",
     "output_type": "stream",
     "text": [
      "step 1\n",
      "step 2\n",
      "step 3 + bootstrap...\n"
     ]
    }
   ],
   "source": [
    "δ_HCT2_vs_HCT3 = equal_graph_test(ΨHCT2, ΨHCT3);"
   ]
  },
  {
   "cell_type": "code",
   "execution_count": 15,
   "metadata": {},
   "outputs": [
    {
     "name": "stdout",
     "output_type": "stream",
     "text": [
      "count(!iszero, δ_HCT2_vs_HCT3) = 0\n"
     ]
    }
   ],
   "source": [
    "@show count(!iszero, δ_HCT2_vs_HCT3);"
   ]
  },
  {
   "cell_type": "code",
   "execution_count": 16,
   "metadata": {},
   "outputs": [],
   "source": [
    "Δ = unpack(δ_HCT2_vs_HCT3; diagonal=true)\n",
    "\n",
    "fig = figure(figsize=(6,6), dpi=300)\n",
    "\n",
    "ax = fig.add_subplot(111)\n",
    "cax = ax.spy(Δ)\n",
    "xticks(0:m-1, ROI_sub)\n",
    "yticks(0:m-1, ROI_sub)\n",
    "tick_params(axis=\"x\", labelsize=4, rotation=90)\n",
    "tick_params(axis=\"y\", labelsize=4)\n",
    "grid(ls=\"dotted\")\n",
    "\n",
    "savefig(\"/Users/byolkim/Documents/KLIEP_inference/draft/revision_v3/fMRI_HCT2_vs_HCT3.png\")\n",
    "close(fig)"
   ]
  },
  {
   "cell_type": "code",
   "execution_count": 17,
   "metadata": {},
   "outputs": [
    {
     "name": "stdout",
     "output_type": "stream",
     "text": [
      "step 1\n",
      "step 2\n",
      "step 3 + bootstrap...\n"
     ]
    }
   ],
   "source": [
    "δ_MST1_vs_MST2 = equal_graph_test(ΨMST2, ΨMST1);"
   ]
  },
  {
   "cell_type": "code",
   "execution_count": 18,
   "metadata": {},
   "outputs": [
    {
     "name": "stdout",
     "output_type": "stream",
     "text": [
      "count(!iszero, δ_MST1_vs_MST2) = 1\n"
     ]
    }
   ],
   "source": [
    "@show count(!iszero, δ_MST1_vs_MST2);"
   ]
  },
  {
   "cell_type": "code",
   "execution_count": 19,
   "metadata": {},
   "outputs": [],
   "source": [
    "Δ = unpack(δ_MST1_vs_MST2; diagonal=true)\n",
    "\n",
    "fig = figure(figsize=(6,6), dpi=300)\n",
    "\n",
    "ax = fig.add_subplot(111)\n",
    "cax = ax.spy(Δ)\n",
    "xticks(0:m-1, ROI_sub)\n",
    "yticks(0:m-1, ROI_sub)\n",
    "tick_params(axis=\"x\", labelsize=4, rotation=90)\n",
    "tick_params(axis=\"y\", labelsize=4)\n",
    "grid(ls=\"dotted\")\n",
    "\n",
    "savefig(\"/Users/byolkim/Documents/KLIEP_inference/draft/revision_v3/fMRI_MST1_vs_MST2.png\")\n",
    "close(fig)"
   ]
  },
  {
   "cell_type": "code",
   "execution_count": 20,
   "metadata": {},
   "outputs": [
    {
     "name": "stdout",
     "output_type": "stream",
     "text": [
      "step 1\n",
      "step 2\n",
      "step 3 + bootstrap...\n"
     ]
    }
   ],
   "source": [
    "δ_MST1_vs_MST3 = equal_graph_test(ΨMST3, ΨMST1);"
   ]
  },
  {
   "cell_type": "code",
   "execution_count": 21,
   "metadata": {},
   "outputs": [
    {
     "name": "stdout",
     "output_type": "stream",
     "text": [
      "count(!iszero, δ_MST1_vs_MST3) = 0\n"
     ]
    }
   ],
   "source": [
    "@show count(!iszero, δ_MST1_vs_MST3);"
   ]
  },
  {
   "cell_type": "code",
   "execution_count": 22,
   "metadata": {},
   "outputs": [],
   "source": [
    "Δ = unpack(δ_MST1_vs_MST3; diagonal=true)\n",
    "\n",
    "fig = figure(figsize=(6,6), dpi=300)\n",
    "\n",
    "ax = fig.add_subplot(111)\n",
    "cax = ax.spy(Δ)\n",
    "xticks(0:m-1, ROI_sub)\n",
    "yticks(0:m-1, ROI_sub)\n",
    "tick_params(axis=\"x\", labelsize=4, rotation=90)\n",
    "tick_params(axis=\"y\", labelsize=4)\n",
    "grid(ls=\"dotted\")\n",
    "\n",
    "savefig(\"/Users/byolkim/Documents/KLIEP_inference/draft/revision_v3/fMRI_MST1_vs_MST3.png\")\n",
    "close(fig)"
   ]
  },
  {
   "cell_type": "code",
   "execution_count": 23,
   "metadata": {},
   "outputs": [
    {
     "name": "stdout",
     "output_type": "stream",
     "text": [
      "step 1\n",
      "step 2\n",
      "step 3 + bootstrap...\n"
     ]
    }
   ],
   "source": [
    "δ_MST2_vs_MST3 = equal_graph_test(ΨMST2, ΨMST3);"
   ]
  },
  {
   "cell_type": "code",
   "execution_count": 24,
   "metadata": {},
   "outputs": [
    {
     "name": "stdout",
     "output_type": "stream",
     "text": [
      "count(!iszero, δ_MST2_vs_MST3) = 0\n"
     ]
    }
   ],
   "source": [
    "@show count(!iszero, δ_MST2_vs_MST3);"
   ]
  },
  {
   "cell_type": "code",
   "execution_count": 25,
   "metadata": {},
   "outputs": [],
   "source": [
    "Δ = unpack(δ_MST2_vs_MST3; diagonal=true)\n",
    "\n",
    "fig = figure(figsize=(6,6), dpi=300)\n",
    "\n",
    "ax = fig.add_subplot(111)\n",
    "cax = ax.spy(Δ)\n",
    "xticks(0:m-1, ROI_sub)\n",
    "yticks(0:m-1, ROI_sub)\n",
    "tick_params(axis=\"x\", labelsize=4, rotation=90)\n",
    "tick_params(axis=\"y\", labelsize=4)\n",
    "grid(ls=\"dotted\")\n",
    "\n",
    "savefig(\"/Users/byolkim/Documents/KLIEP_inference/draft/revision_v3/fMRI_MST2_vs_MST3.png\")\n",
    "close(fig)"
   ]
  },
  {
   "cell_type": "code",
   "execution_count": null,
   "metadata": {},
   "outputs": [],
   "source": []
  }
 ],
 "metadata": {
  "kernelspec": {
   "display_name": "JuliaPro_v1.5.3-1 1.5.3",
   "language": "julia",
   "name": "juliapro_v1.5.3-1-1.5"
  },
  "language_info": {
   "file_extension": ".jl",
   "mimetype": "application/julia",
   "name": "julia",
   "version": "1.5.3"
  }
 },
 "nbformat": 4,
 "nbformat_minor": 2
}
