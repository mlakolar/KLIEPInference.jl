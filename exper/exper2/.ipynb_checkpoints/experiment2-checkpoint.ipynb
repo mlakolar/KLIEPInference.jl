{
 "cells": [
  {
   "cell_type": "markdown",
   "metadata": {},
   "source": [
    "# Experiment 2"
   ]
  },
  {
   "cell_type": "code",
   "execution_count": 1,
   "metadata": {},
   "outputs": [],
   "source": [
    "using KLIEPInference\n",
    "using ProximalBase, CoordinateDescent\n",
    "using LinearAlgebra, SparseArrays, Statistics, Random\n",
    "using Distributions, JLD, PyPlot"
   ]
  },
  {
   "cell_type": "markdown",
   "metadata": {},
   "source": [
    "## Setting 1 (none)"
   ]
  },
  {
   "cell_type": "code",
   "execution_count": 2,
   "metadata": {},
   "outputs": [
    {
     "data": {
      "text/plain": [
       "100"
      ]
     },
     "execution_count": 2,
     "metadata": {},
     "output_type": "execute_result"
    }
   ],
   "source": [
    "file = jldopen(\"/Users/byolkim/Documents/KLIEPInference.jl/exper/exper1/graphs/chain1_25.jld\", \"r\")\n",
    "idx = KLIEPInference.trimap(5,6)  #edge of interest\n",
    "\n",
    "nx = 150\n",
    "ny = 300\n",
    "nrep = 100"
   ]
  },
  {
   "cell_type": "code",
   "execution_count": 4,
   "metadata": {},
   "outputs": [
    {
     "name": "stderr",
     "output_type": "stream",
     "text": [
      "HDF5-DIAG: Error detected in HDF5 (1.10.4) thread 0:\n",
      "  #000: H5O.c line 110 in H5Oopen(): not a location\n",
      "    major: Invalid arguments to routine\n",
      "    minor: Inappropriate type\n",
      "  #001: H5Gloc.c line 246 in H5G_loc(): invalid object ID\n",
      "    major: Invalid arguments to routine\n",
      "    minor: Bad value\n",
      "HDF5-DIAG: Error detected in HDF5 (1.10.4) thread 0:\n",
      "  #000: H5I.c line 2022 in H5Iget_name(): can't retrieve object location\n",
      "    major: Object atom\n",
      "    minor: Can't get value\n",
      "  #001: H5Gloc.c line 246 in H5G_loc(): invalid object ID\n",
      "    major: Invalid arguments to routine\n",
      "    minor: Bad value\n"
     ]
    },
    {
     "ename": "LoadError",
     "evalue": "Error getting object name",
     "output_type": "error",
     "traceback": [
      "Error getting object name",
      "",
      "Stacktrace:",
      " [1] error(::String) at ./error.jl:33",
      " [2] h5i_get_name at /Users/byolkim/.julia/packages/HDF5/YX0jU/src/HDF5.jl:2334 [inlined]",
      " [3] h5i_get_name(::Int64) at /Users/byolkim/.julia/packages/HDF5/YX0jU/src/HDF5.jl:2385",
      " [4] h5o_open at /Users/byolkim/.julia/packages/HDF5/YX0jU/src/HDF5.jl:2334 [inlined]",
      " [5] h5o_open at /Users/byolkim/.julia/packages/HDF5/YX0jU/src/HDF5.jl:2114 [inlined]",
      " [6] getindex at /Users/byolkim/.julia/packages/JLD/jeGJb/src/JLD.jl:278 [inlined]",
      " [7] read(::JLD.JldFile, ::String) at /Users/byolkim/.julia/packages/JLD/jeGJb/src/JLD.jl:341",
      " [8] top-level scope at In[4]:1",
      " [9] include_string(::Function, ::Module, ::String, ::String) at ./loading.jl:1091",
      " [10] execute_code(::String, ::String) at /Users/byolkim/.julia/packages/IJulia/a1SNk/src/execute_request.jl:27",
      " [11] execute_request(::ZMQ.Socket, ::IJulia.Msg) at /Users/byolkim/.julia/packages/IJulia/a1SNk/src/execute_request.jl:86",
      " [12] #invokelatest#1 at ./essentials.jl:710 [inlined]",
      " [13] invokelatest at ./essentials.jl:709 [inlined]",
      " [14] eventloop(::ZMQ.Socket) at /Users/byolkim/.julia/packages/IJulia/a1SNk/src/eventloop.jl:8",
      " [15] (::IJulia.var\"#15#18\")() at ./task.jl:356"
     ]
    }
   ],
   "source": [
    "θy = pack(read(file, \"Θy\"))\n",
    "close(file)\n",
    "\n",
    "p = length(θy)\n",
    "\n",
    "# for both steps, we use autoscaling procedures with canonical choices of λ\n",
    "λ1 = 1.01 * quantile(Normal(), 1. - 0.05 / p)\n",
    "λ2 = sqrt(2. * log(p) / ny)\n",
    "\n",
    "δ = 0.0\n",
    "\n",
    "θx = θy\n",
    "θx[idx] += δ\n",
    "\n",
    "isrejected = zeros(Bool, 4, nrep)\n",
    "\n",
    "for rep = 1:nrep\n",
    "    if mod(rep, div(nrep, 10))==0\n",
    "        println(\"$(rep) / $(nrep)\")\n",
    "    end\n",
    "    \n",
    "    # generate samples\n",
    "    spl = IsingSampler(θx; thin=2000)\n",
    "    X = rand(spl, nx)\n",
    "    spl = IsingSampler(θy; thin=2000)\n",
    "    Y = rand(spl, ny)\n",
    "    \n",
    "            \n",
    "    Ψx = Ψising(X)\n",
    "    Ψy = Ψising(Y)\n",
    "    \n",
    "    # oracle\n",
    "    supp = findall(!iszero, θx-θy)\n",
    "    θ = spKLIEP_refit!(SparseIterate(p), Ψx, Ψy, supp)\n",
    "    \n",
    "    # oracle estimate\n",
    "    H = KLIEP_Hessian(θ, Ψy)\n",
    "    ω = Hinv_row_refit!(SparseIterate(p), H, idx, supp)\n",
    "    σ = stderr_KLIEP(θ, ω, Ψx, Ψy)\n",
    "    \n",
    "    isrejected[1,rep] = abs(θ[idx] - (θx[idx] - θy[idx]) / σ) > quantile(Normal(), 0.975)\n",
    "    \n",
    "    # step 1\n",
    "    θ = spKLIEP(Ψx, Ψy, λ1, CD_KLIEP(); loadings=true)\n",
    "    supp = sort(union(idx, findall(!iszero, θ)))\n",
    "    spKLIEP_refit!(θ, Ψx, Ψy, supp)\n",
    "    \n",
    "    # naïve re-fitted estimate\n",
    "    H = KLIEP_Hessian(θ, Ψy)\n",
    "    ω = Hinv_row_refit!(SparseIterate(p), H, idx, supp)\n",
    "    σ = stderr_KLIEP(θ, ω, Ψx, Ψy)\n",
    "    \n",
    "    isrejected[2,rep] = abs(θ[idx] - (θx[idx] - θy[idx]) / σ) > quantile(Normal(), 0.975)\n",
    "    \n",
    "    # step 2\n",
    "    H = KLIEP_Hessian(θ, Ψy)\n",
    "    ω = Hinv_row(H, idx, λ2)\n",
    "    supp = sort(union(idx, findall(!iszero, ω)))\n",
    "    Hinv_row_refit!(ω, H, idx, supp)\n",
    "    \n",
    "    # SparKLIE+1 and +2\n",
    "    σ1 = stderr_KLIEP(θ, ω, Ψx, Ψy)\n",
    "    θ1, θ2 = debias_KLIEP(idx, θ, ω, Ψx, Ψy)\n",
    "    σ2 = stderr_KLIEP(θ, ω, Ψx, Ψy)\n",
    "    \n",
    "    isrejected[3,rep] = abs(θ1 - (θx[idx] - θy[idx]) / σ1) > quantile(Normal(), 0.975)\n",
    "    isrejected[4,rep] = abs(θ2 - (θx[idx] - θy[idx]) / σ2) > quantile(Normal(), 0.975)\n",
    "end"
   ]
  },
  {
   "cell_type": "code",
   "execution_count": null,
   "metadata": {},
   "outputs": [],
   "source": []
  }
 ],
 "metadata": {
  "kernelspec": {
   "display_name": "JuliaPro_v1.5.3-1 1.5.3",
   "language": "julia",
   "name": "juliapro_v1.5.3-1-1.5"
  },
  "language_info": {
   "file_extension": ".jl",
   "mimetype": "application/julia",
   "name": "julia",
   "version": "1.5.3"
  }
 },
 "nbformat": 4,
 "nbformat_minor": 2
}
