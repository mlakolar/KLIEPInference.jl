{
 "cells": [
  {
   "cell_type": "markdown",
   "metadata": {},
   "source": [
    "# Voting records of the 109th United States Senate"
   ]
  },
  {
   "cell_type": "code",
   "execution_count": 1,
   "metadata": {},
   "outputs": [],
   "source": [
    "using DelimitedFiles, JLD\n",
    "using KLIEPInference\n",
    "using ProximalBase, CoordinateDescent\n",
    "using Distributions\n",
    "using SparseArrays"
   ]
  },
  {
   "cell_type": "code",
   "execution_count": 2,
   "metadata": {},
   "outputs": [],
   "source": [
    "file, colnames = readdlm(\"data14_proc.csv\", ',', String, '\\n'; header=true)\n",
    "names = rstrip.(titlecase.(lowercase.(file[:,1])))\n",
    "\n",
    "file, colnames = readdlm(\"data_senate_global.csv\", ',', Int, '\\n'; header=true)\n",
    "votes = file[:, 2:end]\n",
    "\n",
    "file, colnames = readdlm(\"dates_senate_global.csv\", ',', String, '\\n'; header=true)\n",
    "dates = file[:, 2]\n",
    "\n",
    "yyyy = [parse(Int, split(dates[i], \"-\")[1]) for i = 1:length(dates)];"
   ]
  },
  {
   "cell_type": "code",
   "execution_count": 3,
   "metadata": {},
   "outputs": [
    {
     "name": "stdout",
     "output_type": "stream",
     "text": [
      "hub = findfirst(names .== \"Menendez\") = 59\n",
      "step 1\n",
      "step 2\n",
      "step 3 + bootstrap...\n"
     ]
    }
   ],
   "source": [
    "@show hub = findfirst(names .== \"Menendez\")\n",
    "nbs = union(1:(hub - 1), (hub + 1):100)\n",
    "\n",
    "Ψx = Ψising(convert.(Bool, transpose(votes[findfirst(yyyy .== 2006):findlast(yyyy .== 2006), :])))\n",
    "Ψy = Ψising(convert.(Bool, transpose(votes[findfirst(yyyy .== 2005):findlast(yyyy .== 2005), :])))\n",
    "\n",
    "p, nx = size(Ψx)\n",
    "ny = size(Ψy, 2)\n",
    "\n",
    "println(\"step 1\")\n",
    "λ1 = 1.01 * quantile(Normal(), 1. - 0.05 / p)\n",
    "θ = spKLIEP(Ψx, Ψy, λ1, CD_KLIEP(); loadings=true)\n",
    "supp = findall(!iszero, θ)\n",
    "θ[supp] = KLIEP(Ψx[supp, :], Ψy[supp, :], CD_KLIEP())\n",
    "\n",
    "println(\"step 2\")\n",
    "λ2 = sqrt(2. * log(p) / ny)\n",
    "H = KLIEP_Hessian(spzeros(Float64, p), Ψy)\n",
    "Hinv = Vector{SparseIterate{Float64}}(undef, length(nbs))\n",
    "\n",
    "for i = 1:length(nbs)\n",
    "    k = KLIEPInference.trimap(hub, nbs[i])\n",
    "    \n",
    "    ω = Hinv_row(H, k, λ2)\n",
    "    \n",
    "    Sk = sort(union(k, findall(!iszero, ω)))\n",
    "    Hk = view(H, Sk, Sk)\n",
    "    δk = (Sk .== k)\n",
    "    ω[Sk] = Hk\\δk\n",
    "    \n",
    "    Hinv[i] = ω\n",
    "end\n",
    "\n",
    "println(\"step 3 + bootstrap...\")\n",
    "boot = boot_SparKLIE1(Ψx, Ψy, θ, Hinv; ind=nbs)\n",
    "\n",
    "CI = simulCI(boot, 0.05)\n",
    "\n",
    "δ = boot.θhat .* broadcast(|, CI[:,1] .> 0., CI[:,2] .< 0.);"
   ]
  },
  {
   "cell_type": "code",
   "execution_count": 4,
   "metadata": {},
   "outputs": [
    {
     "name": "stdout",
     "output_type": "stream",
     "text": [
      "count(!iszero, δ) = 0\n"
     ]
    }
   ],
   "source": [
    "@show count(!iszero, δ);"
   ]
  },
  {
   "cell_type": "code",
   "execution_count": null,
   "metadata": {},
   "outputs": [],
   "source": []
  }
 ],
 "metadata": {
  "kernelspec": {
   "display_name": "JuliaPro_v1.5.3-1 1.5.3",
   "language": "julia",
   "name": "juliapro_v1.5.3-1-1.5"
  },
  "language_info": {
   "file_extension": ".jl",
   "mimetype": "application/julia",
   "name": "julia",
   "version": "1.5.3"
  }
 },
 "nbformat": 4,
 "nbformat_minor": 2
}
