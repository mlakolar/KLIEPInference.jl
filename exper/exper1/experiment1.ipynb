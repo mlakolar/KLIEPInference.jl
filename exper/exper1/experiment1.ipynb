{
 "cells": [
  {
   "cell_type": "markdown",
   "metadata": {},
   "source": [
    "# Experiment 1"
   ]
  },
  {
   "cell_type": "code",
   "execution_count": 1,
   "metadata": {},
   "outputs": [],
   "source": [
    "using KLIEPInference\n",
    "using ProximalBase, CoordinateDescent\n",
    "using LinearAlgebra, SparseArrays, Statistics, Random\n",
    "using Distributions, JLD"
   ]
  },
  {
   "cell_type": "code",
   "execution_count": 2,
   "metadata": {},
   "outputs": [
    {
     "data": {
      "text/plain": [
       "experiment1 (generic function with 1 method)"
      ]
     },
     "execution_count": 2,
     "metadata": {},
     "output_type": "execute_result"
    }
   ],
   "source": [
    "function experiment1(file, idx, nx, ny, nrep)\n",
    "    θx = pack(read(file, \"Θx\"))\n",
    "    θy = pack(read(file, \"Θy\"))\n",
    "    close(file)\n",
    "\n",
    "    p = length(θx)\n",
    "\n",
    "    # for both steps, we use autoscaling procedures with canonical choices of λ\n",
    "    λ1 = 1.01 * quantile(Normal(), 1. - 0.05 / p)\n",
    "    λ2 = sqrt(2. * log(p) / ny)\n",
    "\n",
    "    res = zeros(Float64, nrep, 4, 2)\n",
    "    for rep = 1:nrep\n",
    "        if mod(rep, div(nrep, 10)) === 0\n",
    "            println(\"$(rep) / $(nrep)\")\n",
    "        end\n",
    "\n",
    "        # generate samples\n",
    "        spl = IsingSampler(θx; thin=2000)\n",
    "        X = rand(spl, nx)\n",
    "        spl = IsingSampler(θy; thin=2000)\n",
    "        Y = rand(spl, ny)\n",
    "\n",
    "        Ψx = Ψising(X)\n",
    "        Ψy = Ψising(Y)\n",
    "\n",
    "        # oracle estimate\n",
    "        supp = findall(!iszero, θx - θy)\n",
    "        θ = KLIEP(Ψx[supp, :], Ψy[supp, :], CD_KLIEP())\n",
    "\n",
    "        ω = KLIEP_Hessian(θ, Ψy[supp, :])\\(supp .=== idx)\n",
    "        σ = stderr_SparKLIE(Ψx[supp, :], Ψy[supp, :], θ, ω)\n",
    "\n",
    "        res[rep, 1, 1] = θ[findfirst(isequal(idx), supp)] - θx[idx] + θy[idx]\n",
    "        res[rep, 1, 2] = res[rep, 1, 1] / σ\n",
    "\n",
    "        # step 1\n",
    "        θ = spKLIEP(Ψx, Ψy, λ1, CD_KLIEP(); loadings=true)\n",
    "\n",
    "        # naïve re-fitted estimate\n",
    "        supp = KLIEPInference._find_supp(idx, θ)\n",
    "        θ[supp] = KLIEP(Ψx[supp, :], Ψy[supp, :], CD_KLIEP())\n",
    "\n",
    "        ω = KLIEP_Hessian(θ[supp], Ψy[supp, :])\\(supp .=== idx)\n",
    "        σ = stderr_SparKLIE(Ψx[supp, :], Ψy[supp, :], θ[supp], ω)\n",
    "\n",
    "        res[rep, 2, 1] = θ[idx] - θx[idx] + θy[idx]\n",
    "        res[rep, 2, 2] = res[rep, 2, 1] / σ\n",
    "\n",
    "        # step 2\n",
    "        H = KLIEP_Hessian(θ, Ψy)\n",
    "        ω = Hinv_row(H, idx, λ2)\n",
    "        supp = KLIEPInference._find_supp(idx, ω)\n",
    "        ω[supp] = view(H, supp, supp)\\(supp .=== idx)\n",
    "\n",
    "        # SparKLIE+1\n",
    "        θ1 = KLIEPInference._debias1(Ψx, Ψy, θ, ω, idx; refit=false)\n",
    "        σ = stderr_SparKLIE(Ψx, Ψy, θ, ω)\n",
    "\n",
    "        res[rep, 3, 1] = θ1 - θx[idx] + θy[idx]\n",
    "        res[rep, 3, 2] = res[rep, 3, 1] / σ\n",
    "\n",
    "        # SparKLIE+2\n",
    "        θ2 = KLIEPInference._debias2(Ψx, Ψy, θ, ω, idx)\n",
    "\n",
    "        supp = KLIEPInference._find_supp(idx, θ, ω)\n",
    "        ω = KLIEP_Hessian(θ[supp], Ψy[supp, :])\\(supp .=== idx)\n",
    "        σ = stderr_SparKLIE(Ψx[supp, :], Ψy[supp, :], θ[supp], ω)\n",
    "\n",
    "        res[rep, 4, 1] = θ2 - θx[idx] + θy[idx]\n",
    "        res[rep, 4, 2] = res[rep, 4, 1] / σ\n",
    "    end\n",
    "    res\n",
    "end"
   ]
  },
  {
   "cell_type": "code",
   "execution_count": 3,
   "metadata": {},
   "outputs": [
    {
     "data": {
      "text/plain": [
       "MersenneTwister(UInt32[0x000004c2], Random.DSFMT.DSFMT_state(Int32[-854650020, 1073556053, 1620855344, 1073630175, 1698263943, 1073736988, 691512570, 1073738378, -673392900, 1073121727  …  47415821, 1072887989, -496483395, 1073429484, -1104767902, 678491891, -1379894893, 290756459, 382, 0]), [0.0, 0.0, 0.0, 0.0, 0.0, 0.0, 0.0, 0.0, 0.0, 0.0  …  0.0, 0.0, 0.0, 0.0, 0.0, 0.0, 0.0, 0.0, 0.0, 0.0], UInt128[0x00000000000000000000000000000000, 0x00000000000000000000000000000000, 0x00000000000000000000000000000000, 0x00000000000000000000000000000000, 0x00000000000000000000000000000000, 0x00000000000000000000000000000000, 0x00000000000000000000000000000000, 0x00000000000000000000000000000000, 0x00000000000000000000000000000000, 0x00000000000000000000000000000000  …  0x00000000000000000000000000000000, 0x00000000000000000000000000000000, 0x00000000000000000000000000000000, 0x00000000000000000000000000000000, 0x00000000000000000000000000000000, 0x00000000000000000000000000000000, 0x00000000000000000000000000000000, 0x00000000000000000000000000000000, 0x00000000000000000000000000000000, 0x00000000000000000000000000000000], 1002, 0)"
      ]
     },
     "execution_count": 3,
     "metadata": {},
     "output_type": "execute_result"
    }
   ],
   "source": [
    "Random.seed!(1218)"
   ]
  },
  {
   "cell_type": "markdown",
   "metadata": {},
   "source": [
    "## $m = 25$, $n_x = 150$, $n_y = 300$"
   ]
  },
  {
   "cell_type": "markdown",
   "metadata": {},
   "source": [
    "### Chain (1)"
   ]
  },
  {
   "cell_type": "code",
   "execution_count": 4,
   "metadata": {},
   "outputs": [
    {
     "name": "stdout",
     "output_type": "stream",
     "text": [
      "100 / 1000\n",
      "200 / 1000\n",
      "300 / 1000\n",
      "400 / 1000\n",
      "500 / 1000\n",
      "600 / 1000\n",
      "700 / 1000\n",
      "800 / 1000\n",
      "900 / 1000\n",
      "1000 / 1000\n"
     ]
    }
   ],
   "source": [
    "file = jldopen(\"graphs/chain1_25.jld\", \"r\")\n",
    "idx = KLIEPInference.trimap(5, 6)  #edge of interest\n",
    "res = experiment1(file, idx, 150, 300, 1000)\n",
    "@save \"res/res_chain1_25.jld\" res"
   ]
  },
  {
   "cell_type": "code",
   "execution_count": 5,
   "metadata": {},
   "outputs": [
    {
     "name": "stdout",
     "output_type": "stream",
     "text": [
      "avg bias: [-0.00505 0.08033 -0.01894 -0.00621]\n",
      "coverage: [0.96 0.85 0.934 0.945]\n"
     ]
    }
   ],
   "source": [
    "println(\"avg bias: $(round.(mean(res[:, :, 1], dims=1), digits=5))\")\n",
    "println(\"coverage: $(mean(abs.(res[:, :, 2]) .< quantile(Normal(), 0.975), dims=1))\")"
   ]
  },
  {
   "cell_type": "markdown",
   "metadata": {},
   "source": [
    "### Chain (2)"
   ]
  },
  {
   "cell_type": "code",
   "execution_count": 6,
   "metadata": {},
   "outputs": [
    {
     "name": "stdout",
     "output_type": "stream",
     "text": [
      "100 / 1000\n",
      "200 / 1000\n",
      "300 / 1000\n",
      "400 / 1000\n",
      "500 / 1000\n",
      "600 / 1000\n",
      "700 / 1000\n",
      "800 / 1000\n",
      "900 / 1000\n",
      "1000 / 1000\n"
     ]
    }
   ],
   "source": [
    "file = jldopen(\"graphs/chain2_25.jld\", \"r\")\n",
    "idx = KLIEPInference.trimap(5, 6)  #edge of interest\n",
    "res = experiment1(file, idx, 150, 300, 1000)\n",
    "@save \"res/res_chain2_25.jld\" res"
   ]
  },
  {
   "cell_type": "code",
   "execution_count": 7,
   "metadata": {},
   "outputs": [
    {
     "name": "stdout",
     "output_type": "stream",
     "text": [
      "avg bias: [-0.00819 0.0692 0.00526 -0.01013]\n",
      "coverage: [0.962 0.907 0.948 0.948]\n"
     ]
    }
   ],
   "source": [
    "println(\"avg bias: $(round.(mean(res[:, :, 1], dims=1), digits=5))\")\n",
    "println(\"coverage: $(mean(abs.(res[:, :, 2]) .< quantile(Normal(), 0.975), dims=1))\")"
   ]
  },
  {
   "cell_type": "markdown",
   "metadata": {},
   "source": [
    "### Tree (1)"
   ]
  },
  {
   "cell_type": "code",
   "execution_count": 8,
   "metadata": {},
   "outputs": [
    {
     "name": "stdout",
     "output_type": "stream",
     "text": [
      "100 / 1000\n",
      "200 / 1000\n",
      "300 / 1000\n",
      "400 / 1000\n",
      "500 / 1000\n",
      "600 / 1000\n",
      "700 / 1000\n",
      "800 / 1000\n",
      "900 / 1000\n",
      "1000 / 1000\n"
     ]
    }
   ],
   "source": [
    "file = jldopen(\"graphs/tree1_25.jld\", \"r\")\n",
    "idx = KLIEPInference.trimap(1, 3)  #edge of interest\n",
    "res = experiment1(file, idx, 150, 300, 1000)\n",
    "@save \"res/res_tree1_25.jld\" res"
   ]
  },
  {
   "cell_type": "code",
   "execution_count": 9,
   "metadata": {},
   "outputs": [
    {
     "name": "stdout",
     "output_type": "stream",
     "text": [
      "avg bias: [-0.01763 0.06698 -0.02323 -0.04143]\n",
      "coverage: [0.972 0.925 0.932 0.958]\n"
     ]
    }
   ],
   "source": [
    "println(\"avg bias: $(round.(mean(res[:, :, 1], dims=1), digits=5))\")\n",
    "println(\"coverage: $(mean(abs.(res[:, :, 2]) .< quantile(Normal(), 0.975), dims=1))\")"
   ]
  },
  {
   "cell_type": "markdown",
   "metadata": {},
   "source": [
    "### Tree (2)"
   ]
  },
  {
   "cell_type": "code",
   "execution_count": 10,
   "metadata": {},
   "outputs": [
    {
     "name": "stdout",
     "output_type": "stream",
     "text": [
      "100 / 1000\n",
      "200 / 1000\n",
      "300 / 1000\n",
      "400 / 1000\n",
      "500 / 1000\n",
      "600 / 1000\n",
      "700 / 1000\n",
      "800 / 1000\n",
      "900 / 1000\n",
      "1000 / 1000\n"
     ]
    }
   ],
   "source": [
    "file = jldopen(\"graphs/tree2_25.jld\", \"r\")\n",
    "idx = KLIEPInference.trimap(1, 3)  #edge of interest\n",
    "res = experiment1(file, idx, 150, 300, 1000)\n",
    "@save \"res/res_tree2_25.jld\" res"
   ]
  },
  {
   "cell_type": "code",
   "execution_count": 11,
   "metadata": {},
   "outputs": [
    {
     "name": "stdout",
     "output_type": "stream",
     "text": [
      "avg bias: [-0.0077 0.03803 0.01168 -0.00587]\n",
      "coverage: [0.972 0.946 0.957 0.977]\n"
     ]
    }
   ],
   "source": [
    "println(\"avg bias: $(round.(mean(res[:, :, 1], dims=1), digits=5))\")\n",
    "println(\"coverage: $(mean(abs.(res[:, :, 2]) .< quantile(Normal(), 0.975), dims=1))\")"
   ]
  },
  {
   "cell_type": "markdown",
   "metadata": {},
   "source": [
    "## $m = 50$, $n_x = 300$, $n_y = 600$"
   ]
  },
  {
   "cell_type": "markdown",
   "metadata": {},
   "source": [
    "### Chain (1)"
   ]
  },
  {
   "cell_type": "code",
   "execution_count": 12,
   "metadata": {},
   "outputs": [
    {
     "name": "stdout",
     "output_type": "stream",
     "text": [
      "100 / 1000\n",
      "200 / 1000\n",
      "300 / 1000\n",
      "400 / 1000\n",
      "500 / 1000\n",
      "600 / 1000\n",
      "700 / 1000\n",
      "800 / 1000\n",
      "900 / 1000\n",
      "1000 / 1000\n"
     ]
    }
   ],
   "source": [
    "file = jldopen(\"graphs/chain1_50.jld\", \"r\")\n",
    "idx = KLIEPInference.trimap(5, 6)  #edge of interest\n",
    "res = experiment1(file, idx, 300, 600, 1000)\n",
    "@save \"res/res_chain1_50.jld\" res"
   ]
  },
  {
   "cell_type": "code",
   "execution_count": 13,
   "metadata": {},
   "outputs": [
    {
     "name": "stdout",
     "output_type": "stream",
     "text": [
      "avg bias: [-0.0036 0.07692 -0.02301 -0.01673]\n",
      "coverage: [0.946 0.822 0.943 0.948]\n"
     ]
    }
   ],
   "source": [
    "println(\"avg bias: $(round.(mean(res[:, :, 1], dims=1), digits=5))\")\n",
    "println(\"coverage: $(mean(abs.(res[:, :, 2]) .< quantile(Normal(), 0.975), dims=1))\")"
   ]
  },
  {
   "cell_type": "markdown",
   "metadata": {},
   "source": [
    "### Chain (2)"
   ]
  },
  {
   "cell_type": "code",
   "execution_count": 14,
   "metadata": {},
   "outputs": [
    {
     "name": "stdout",
     "output_type": "stream",
     "text": [
      "100 / 1000\n",
      "200 / 1000\n",
      "300 / 1000\n",
      "400 / 1000\n",
      "500 / 1000\n",
      "600 / 1000\n",
      "700 / 1000\n",
      "800 / 1000\n",
      "900 / 1000\n",
      "1000 / 1000\n"
     ]
    }
   ],
   "source": [
    "file = jldopen(\"graphs/chain2_50.jld\", \"r\")\n",
    "idx = KLIEPInference.trimap(5, 6)  #edge of interest\n",
    "res = experiment1(file, idx, 300, 600, 1000)\n",
    "@save \"res/res_chain2_50.jld\" res"
   ]
  },
  {
   "cell_type": "code",
   "execution_count": 15,
   "metadata": {},
   "outputs": [
    {
     "name": "stdout",
     "output_type": "stream",
     "text": [
      "avg bias: [-0.00039 0.07636 0.01516 -0.00369]\n",
      "coverage: [0.962 0.839 0.953 0.955]\n"
     ]
    }
   ],
   "source": [
    "println(\"avg bias: $(round.(mean(res[:, :, 1], dims=1), digits=5))\")\n",
    "println(\"coverage: $(mean(abs.(res[:, :, 2]) .< quantile(Normal(), 0.975), dims=1))\")"
   ]
  },
  {
   "cell_type": "markdown",
   "metadata": {},
   "source": [
    "### Tree (1)"
   ]
  },
  {
   "cell_type": "code",
   "execution_count": 16,
   "metadata": {},
   "outputs": [
    {
     "name": "stdout",
     "output_type": "stream",
     "text": [
      "100 / 1000\n",
      "200 / 1000\n",
      "300 / 1000\n",
      "400 / 1000\n",
      "500 / 1000\n",
      "600 / 1000\n",
      "700 / 1000\n",
      "800 / 1000\n",
      "900 / 1000\n",
      "1000 / 1000\n"
     ]
    }
   ],
   "source": [
    "file = jldopen(\"graphs/tree1_50.jld\", \"r\")\n",
    "idx = KLIEPInference.trimap(1, 3)  #edge of interest\n",
    "res = experiment1(file, idx, 300, 600, 1000)\n",
    "@save \"res/res_tree1_50.jld\" res"
   ]
  },
  {
   "cell_type": "code",
   "execution_count": 17,
   "metadata": {},
   "outputs": [
    {
     "name": "stdout",
     "output_type": "stream",
     "text": [
      "avg bias: [0.00256 0.08975 0.00875 -0.00539]\n",
      "coverage: [0.976 0.874 0.973 0.979]\n"
     ]
    }
   ],
   "source": [
    "println(\"avg bias: $(round.(mean(res[:, :, 1], dims=1), digits=5))\")\n",
    "println(\"coverage: $(mean(abs.(res[:, :, 2]) .< quantile(Normal(), 0.975), dims=1))\")"
   ]
  },
  {
   "cell_type": "markdown",
   "metadata": {},
   "source": [
    "### Tree (2)"
   ]
  },
  {
   "cell_type": "code",
   "execution_count": 18,
   "metadata": {},
   "outputs": [
    {
     "name": "stdout",
     "output_type": "stream",
     "text": [
      "100 / 1000\n",
      "200 / 1000\n",
      "300 / 1000\n",
      "400 / 1000\n",
      "500 / 1000\n",
      "600 / 1000\n",
      "700 / 1000\n",
      "800 / 1000\n",
      "900 / 1000\n",
      "1000 / 1000\n"
     ]
    }
   ],
   "source": [
    "file = jldopen(\"graphs/tree2_50.jld\", \"r\")\n",
    "idx = KLIEPInference.trimap(1, 3)  #edge of interest\n",
    "res = experiment1(file, idx, 300, 600, 1000)\n",
    "@save \"res/res_tree2_50.jld\" res"
   ]
  },
  {
   "cell_type": "code",
   "execution_count": 19,
   "metadata": {},
   "outputs": [
    {
     "name": "stdout",
     "output_type": "stream",
     "text": [
      "avg bias: [-0.00611 0.05306 -0.00248 -0.00826]\n",
      "coverage: [0.968 0.913 0.952 0.977]\n"
     ]
    }
   ],
   "source": [
    "println(\"avg bias: $(round.(mean(res[:, :, 1], dims=1), digits=5))\")\n",
    "println(\"coverage: $(mean(abs.(res[:, :, 2]) .< quantile(Normal(), 0.975), dims=1))\")"
   ]
  }
 ],
 "metadata": {
  "kernelspec": {
   "display_name": "JuliaPro_v1.5.3-1 1.5.3",
   "language": "julia",
   "name": "juliapro_v1.5.3-1-1.5"
  },
  "language_info": {
   "file_extension": ".jl",
   "mimetype": "application/julia",
   "name": "julia",
   "version": "1.5.3"
  }
 },
 "nbformat": 4,
 "nbformat_minor": 2
}
