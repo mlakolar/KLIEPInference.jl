{
 "cells": [
  {
   "cell_type": "markdown",
   "metadata": {},
   "source": [
    "# Experiment 1"
   ]
  },
  {
   "cell_type": "code",
   "execution_count": 1,
   "metadata": {},
   "outputs": [],
   "source": [
    "using KLIEPInference\n",
    "using ProximalBase, CoordinateDescent\n",
    "using LinearAlgebra, SparseArrays, Statistics, Random\n",
    "using Distributions, JLD, PyPlot"
   ]
  },
  {
   "cell_type": "code",
   "execution_count": 2,
   "metadata": {},
   "outputs": [
    {
     "data": {
      "text/plain": [
       "experiment1 (generic function with 1 method)"
      ]
     },
     "execution_count": 2,
     "metadata": {},
     "output_type": "execute_result"
    }
   ],
   "source": [
    "function experiment1(file, idx, nx, ny, nrep)\n",
    "    θx = pack(read(file, \"Θx\"))\n",
    "    θy = pack(read(file, \"Θy\"))\n",
    "    close(file)\n",
    "    \n",
    "    p = length(θx)\n",
    "    \n",
    "    # for both steps, we use autoscaling procedures with canonical choices of λ\n",
    "    λ1 = 1.01 * quantile(Normal(), 1. - 0.05 / p)\n",
    "    λ2 = sqrt(2. * log(p) / ny)\n",
    "    \n",
    "    b = zeros(Float64, 4, nrep)\n",
    "    z = zeros(Float64, 4, nrep)\n",
    "    \n",
    "    for rep = 1:nrep\n",
    "        if mod(rep, div(nrep, 10))==0\n",
    "            println(\"$(rep) / $(nrep)\")\n",
    "        end\n",
    "        \n",
    "        # generate samples\n",
    "        spl = IsingSampler(θx; thin=2000)\n",
    "        X = rand(spl, nx)\n",
    "        spl = IsingSampler(θy; thin=2000)\n",
    "        Y = rand(spl, ny)\n",
    "        \n",
    "        Ψx = Ψising(X)\n",
    "        Ψy = Ψising(Y)\n",
    "        \n",
    "        # oracle\n",
    "        supp = findall(!iszero, θx-θy)\n",
    "        θ = spKLIEP_refit!(SparseIterate(p), Ψx, Ψy, supp)\n",
    "        \n",
    "        # oracle estimate\n",
    "        H = KLIEP_Hessian(θ, Ψy)\n",
    "        ω = Hinv_row_refit!(SparseIterate(p), H, idx, supp)\n",
    "        σ = stderr_KLIEP(θ, ω, Ψx, Ψy)\n",
    "        \n",
    "        b[1,rep] = θ[idx] - (θx[idx] - θy[idx])\n",
    "        z[1,rep] = b[1,rep] / σ\n",
    "        \n",
    "        # step 1\n",
    "        θ = spKLIEP(Ψx, Ψy, λ1, CD_KLIEP(); loadings=true)\n",
    "        supp = sort(union(idx, findall(!iszero, θ)))\n",
    "        spKLIEP_refit!(θ, Ψx, Ψy, supp)\n",
    "        \n",
    "        # naïve re-fitted estimate\n",
    "        H = KLIEP_Hessian(θ, Ψy)\n",
    "        ω = Hinv_row_refit!(SparseIterate(p), H, idx, supp)\n",
    "        σ = stderr_KLIEP(θ, ω, Ψx, Ψy)\n",
    "        \n",
    "        b[2,rep] = θ[idx] - (θx[idx] - θy[idx])\n",
    "        z[2,rep] = b[2,rep] / σ\n",
    "        \n",
    "        # step 2\n",
    "        H = KLIEP_Hessian(θ, Ψy)\n",
    "        ω = Hinv_row(H, idx, λ2)\n",
    "        supp = sort(union(idx, findall(!iszero, ω)))\n",
    "        Hinv_row_refit!(ω, H, idx, supp)\n",
    "        \n",
    "        # SparKLIE+1 and +2\n",
    "        σ1 = stderr_KLIEP(θ, ω, Ψx, Ψy)\n",
    "        θ1, θ2 = debias_KLIEP(idx, θ, ω, Ψx, Ψy)\n",
    "        σ2 = stderr_KLIEP(θ, ω, Ψx, Ψy)\n",
    "        \n",
    "        b[3,rep], b[4,rep] = θ1 - (θx[idx] - θy[idx]), θ2 - (θx[idx] - θy[idx])\n",
    "        z[3,rep], z[4,rep] = b[3,rep] / σ1, b[4,rep] / σ2\n",
    "    end\n",
    "    \n",
    "    return b, z\n",
    "end"
   ]
  },
  {
   "cell_type": "code",
   "execution_count": 3,
   "metadata": {},
   "outputs": [
    {
     "data": {
      "text/plain": [
       "qqplot (generic function with 1 method)"
      ]
     },
     "execution_count": 3,
     "metadata": {},
     "output_type": "execute_result"
    }
   ],
   "source": [
    "function qqplot(z; color=\"black\")\n",
    "    n = length(z)\n",
    "\n",
    "    grid = [(1 / (n + 1)):(1 / (n + 1)):(1.0 - (1 / (n + 1)));]\n",
    "\n",
    "    qz = quantile(z, grid)\n",
    "    qd = quantile.(Ref(Distributions.Normal()), grid)\n",
    "\n",
    "    lims = 3.290\n",
    "    x = range(-lims, stop=lims)\n",
    "\n",
    "    plot(x, x, color=\"grey\", linestyle=\":\", linewidth=.25)\n",
    "    scatter(qz, qd, s=.75, color=color)\n",
    "\n",
    "    xlim([-lims, lims])\n",
    "    ylim([-lims, lims])\n",
    "\n",
    "    nothing\n",
    "end"
   ]
  },
  {
   "cell_type": "code",
   "execution_count": 4,
   "metadata": {},
   "outputs": [
    {
     "data": {
      "text/plain": [
       "MersenneTwister(UInt32[0x000004c2], Random.DSFMT.DSFMT_state(Int32[-854650020, 1073556053, 1620855344, 1073630175, 1698263943, 1073736988, 691512570, 1073738378, -673392900, 1073121727  …  47415821, 1072887989, -496483395, 1073429484, -1104767902, 678491891, -1379894893, 290756459, 382, 0]), [0.0, 0.0, 0.0, 0.0, 0.0, 0.0, 0.0, 0.0, 0.0, 0.0  …  0.0, 0.0, 0.0, 0.0, 0.0, 0.0, 0.0, 0.0, 0.0, 0.0], UInt128[0x00000000000000000000000000000000, 0x00000000000000000000000000000000, 0x00000000000000000000000000000000, 0x00000000000000000000000000000000, 0x00000000000000000000000000000000, 0x00000000000000000000000000000000, 0x00000000000000000000000000000000, 0x00000000000000000000000000000000, 0x00000000000000000000000000000000, 0x00000000000000000000000000000000  …  0x00000000000000000000000000000000, 0x00000000000000000000000000000000, 0x00000000000000000000000000000000, 0x00000000000000000000000000000000, 0x00000000000000000000000000000000, 0x00000000000000000000000000000000, 0x00000000000000000000000000000000, 0x00000000000000000000000000000000, 0x00000000000000000000000000000000, 0x00000000000000000000000000000000], 1002, 0)"
      ]
     },
     "execution_count": 4,
     "metadata": {},
     "output_type": "execute_result"
    }
   ],
   "source": [
    "Random.seed!(1218)"
   ]
  },
  {
   "cell_type": "markdown",
   "metadata": {},
   "source": [
    "## $m = 25$, $n_x = 150$, $n_y = 300$"
   ]
  },
  {
   "cell_type": "markdown",
   "metadata": {},
   "source": [
    "### Chain (1)"
   ]
  },
  {
   "cell_type": "code",
   "execution_count": 5,
   "metadata": {},
   "outputs": [
    {
     "name": "stdout",
     "output_type": "stream",
     "text": [
      "100 / 1000\n",
      "200 / 1000\n",
      "300 / 1000\n",
      "400 / 1000\n",
      "500 / 1000\n",
      "600 / 1000\n",
      "700 / 1000\n",
      "800 / 1000\n",
      "900 / 1000\n",
      "1000 / 1000\n"
     ]
    }
   ],
   "source": [
    "file = jldopen(\"/Users/byolkim/Documents/KLIEPInference.jl/exper/exper1/graphs/chain1_25.jld\", \"r\")\n",
    "idx = KLIEPInference.trimap(5,6)  #edge of interest\n",
    "b, z = experiment1(file, idx, 150, 300, 1000);"
   ]
  },
  {
   "cell_type": "code",
   "execution_count": 6,
   "metadata": {},
   "outputs": [
    {
     "name": "stdout",
     "output_type": "stream",
     "text": [
      "avg bias: [-0.002411635399094899; 0.08423432452518499; -0.014900303256989855; -0.0027481200337800917]\n",
      "coverage: [0.968; 0.863; 0.953; 0.966]\n"
     ]
    }
   ],
   "source": [
    "println(\"avg bias: $(mean(b, dims=2))\")\n",
    "println(\"coverage: $(mean(abs.(z) .< quantile(Normal(), 0.975), dims=2))\")"
   ]
  },
  {
   "cell_type": "code",
   "execution_count": 7,
   "metadata": {},
   "outputs": [
    {
     "name": "stdout",
     "output_type": "stream",
     "text": [
      "Figure(PyObject <Figure size 1537.5x1153.2 with 6 Axes>)"
     ]
    }
   ],
   "source": [
    "x = range(-3.290, stop=3.290, length=100)\n",
    "y = pdf.(Normal(), x)\n",
    "\n",
    "fig = figure(figsize=(5.125,3.844), dpi=300)\n",
    "\n",
    "ax = subplot(2, 3, 1)\n",
    "qqplot(z[1,:], color=\"grey\")\n",
    "qqplot(z[2,:])\n",
    "title(\"naive re-fitting\", size=\"xx-small\")\n",
    "ax[:tick_params](\"both\", labelsize=\"xx-small\", length=2, pad=2)\n",
    "\n",
    "ax = subplot(2, 3, 2)\n",
    "qqplot(z[1,:], color=\"grey\")\n",
    "qqplot(z[3,:])\n",
    "title(\"SparKLIE+1\", size=\"xx-small\")\n",
    "ax[:tick_params](\"both\", labelsize=\"xx-small\", length=2, pad=2)\n",
    "\n",
    "ax = subplot(2, 3, 3)\n",
    "qqplot(z[1,:], color=\"grey\")\n",
    "qqplot(z[4,:])\n",
    "title(\"SparKLIE+2\", size=\"xx-small\")\n",
    "ax[:tick_params](\"both\", labelsize=\"xx-small\", length=2, pad=2)\n",
    "\n",
    "ax = subplot(2, 3, 4)\n",
    "plt[:hist](z[2,:], 100, density=true)\n",
    "plot(x,y)\n",
    "xlim(-3.290,3.290)\n",
    "ax[:tick_params](\"both\", labelsize=\"xx-small\", length=2, pad=2)\n",
    "\n",
    "ax = subplot(2, 3, 5)\n",
    "plt[:hist](z[3,:], 100, density=true)\n",
    "plot(x,y)\n",
    "xlim(-3.290,3.290)\n",
    "ax[:tick_params](\"both\", labelsize=\"xx-small\", length=2, pad=2)\n",
    "\n",
    "ax = subplot(2, 3, 6)\n",
    "plt[:hist](z[4,:], 100, density=true)\n",
    "plot(x,y)\n",
    "xlim(-3.290,3.290)\n",
    "ax[:tick_params](\"both\", labelsize=\"xx-small\", length=2, pad=2)\n",
    "tight_layout()\n",
    "\n",
    "show(fig)\n",
    "\n",
    "savefig(\"/Users/byolkim/Documents/KLIEP_inference/draft/revision_v3/exper1_chain1_25.png\")\n",
    "close(fig)"
   ]
  },
  {
   "cell_type": "markdown",
   "metadata": {},
   "source": [
    "### Chain (2)"
   ]
  },
  {
   "cell_type": "code",
   "execution_count": 8,
   "metadata": {},
   "outputs": [
    {
     "name": "stdout",
     "output_type": "stream",
     "text": [
      "100 / 1000\n",
      "200 / 1000\n",
      "300 / 1000\n",
      "400 / 1000\n",
      "500 / 1000\n",
      "600 / 1000\n",
      "700 / 1000\n",
      "800 / 1000\n",
      "900 / 1000\n",
      "1000 / 1000\n"
     ]
    }
   ],
   "source": [
    "file = jldopen(\"/Users/byolkim/Documents/KLIEPInference.jl/exper/exper1/graphs/chain2_25.jld\", \"r\")\n",
    "idx = KLIEPInference.trimap(5,6)  #edge of interest\n",
    "b, z = experiment1(file, idx, 150, 300, 1000);"
   ]
  },
  {
   "cell_type": "code",
   "execution_count": 9,
   "metadata": {},
   "outputs": [
    {
     "name": "stdout",
     "output_type": "stream",
     "text": [
      "avg bias: [-0.009234481804009794; 0.06951258323141063; 0.0047431406699008334; -0.009578163439097166]\n",
      "coverage: [0.951; 0.888; 0.941; 0.943]\n"
     ]
    }
   ],
   "source": [
    "println(\"avg bias: $(mean(b, dims=2))\")\n",
    "println(\"coverage: $(mean(abs.(z) .< quantile(Normal(), 0.975), dims=2))\")"
   ]
  },
  {
   "cell_type": "code",
   "execution_count": 10,
   "metadata": {},
   "outputs": [
    {
     "name": "stdout",
     "output_type": "stream",
     "text": [
      "Figure(PyObject <Figure size 1537.5x1153.2 with 6 Axes>)"
     ]
    }
   ],
   "source": [
    "x = range(-3.290, stop=3.290, length=100)\n",
    "y = pdf.(Normal(), x)\n",
    "\n",
    "fig = figure(figsize=(5.125,3.844), dpi=300)\n",
    "\n",
    "ax = subplot(2, 3, 1)\n",
    "qqplot(z[1,:], color=\"grey\")\n",
    "qqplot(z[2,:])\n",
    "title(\"naive re-fitting\", size=\"xx-small\")\n",
    "ax[:tick_params](\"both\", labelsize=\"xx-small\", length=2, pad=2)\n",
    "\n",
    "ax = subplot(2, 3, 2)\n",
    "qqplot(z[1,:], color=\"grey\")\n",
    "qqplot(z[3,:])\n",
    "title(\"SparKLIE+1\", size=\"xx-small\")\n",
    "ax[:tick_params](\"both\", labelsize=\"xx-small\", length=2, pad=2)\n",
    "\n",
    "ax = subplot(2, 3, 3)\n",
    "qqplot(z[1,:], color=\"grey\")\n",
    "qqplot(z[4,:])\n",
    "title(\"SparKLIE+2\", size=\"xx-small\")\n",
    "ax[:tick_params](\"both\", labelsize=\"xx-small\", length=2, pad=2)\n",
    "\n",
    "ax = subplot(2, 3, 4)\n",
    "plt[:hist](z[2,:], 100, density=true)\n",
    "plot(x,y)\n",
    "xlim(-3.290,3.290)\n",
    "ax[:tick_params](\"both\", labelsize=\"xx-small\", length=2, pad=2)\n",
    "\n",
    "ax = subplot(2, 3, 5)\n",
    "plt[:hist](z[3,:], 100, density=true)\n",
    "plot(x,y)\n",
    "xlim(-3.290,3.290)\n",
    "ax[:tick_params](\"both\", labelsize=\"xx-small\", length=2, pad=2)\n",
    "\n",
    "ax = subplot(2, 3, 6)\n",
    "plt[:hist](z[4,:], 100, density=true)\n",
    "plot(x,y)\n",
    "xlim(-3.290,3.290)\n",
    "ax[:tick_params](\"both\", labelsize=\"xx-small\", length=2, pad=2)\n",
    "tight_layout()\n",
    "\n",
    "show(fig)\n",
    "\n",
    "savefig(\"/Users/byolkim/Documents/KLIEP_inference/draft/revision_v3/exper1_chain2_25.png\")\n",
    "close(fig)"
   ]
  },
  {
   "cell_type": "markdown",
   "metadata": {},
   "source": [
    "### Tree (1)"
   ]
  },
  {
   "cell_type": "code",
   "execution_count": 11,
   "metadata": {},
   "outputs": [
    {
     "name": "stdout",
     "output_type": "stream",
     "text": [
      "100 / 1000\n",
      "200 / 1000\n",
      "300 / 1000\n",
      "400 / 1000\n",
      "500 / 1000\n",
      "600 / 1000\n",
      "700 / 1000\n",
      "800 / 1000\n",
      "900 / 1000\n",
      "1000 / 1000\n"
     ]
    }
   ],
   "source": [
    "file = jldopen(\"/Users/byolkim/Documents/KLIEPInference.jl/exper/exper1/graphs/tree1_25.jld\", \"r\")\n",
    "idx = KLIEPInference.trimap(1,3)  #edge of interest\n",
    "b, z = experiment1(file, idx, 150, 300, 1000);"
   ]
  },
  {
   "cell_type": "code",
   "execution_count": 12,
   "metadata": {},
   "outputs": [
    {
     "name": "stdout",
     "output_type": "stream",
     "text": [
      "avg bias: [-0.006553689802310843; 0.07077168463067289; -0.009544536979063517; -0.028343262290836863]\n",
      "coverage: [0.973; 0.925; 0.943; 0.98]\n"
     ]
    }
   ],
   "source": [
    "println(\"avg bias: $(mean(b, dims=2))\")\n",
    "println(\"coverage: $(mean(abs.(z) .< quantile(Normal(), 0.975), dims=2))\")"
   ]
  },
  {
   "cell_type": "code",
   "execution_count": 13,
   "metadata": {},
   "outputs": [
    {
     "name": "stdout",
     "output_type": "stream",
     "text": [
      "Figure(PyObject <Figure size 1537.5x1153.2 with 6 Axes>)"
     ]
    }
   ],
   "source": [
    "x = range(-3.290, stop=3.290, length=100)\n",
    "y = pdf.(Normal(), x)\n",
    "\n",
    "fig = figure(figsize=(5.125,3.844), dpi=300)\n",
    "\n",
    "ax = subplot(2, 3, 1)\n",
    "qqplot(z[1,:], color=\"grey\")\n",
    "qqplot(z[2,:])\n",
    "title(\"naive re-fitting\", size=\"xx-small\")\n",
    "ax[:tick_params](\"both\", labelsize=\"xx-small\", length=2, pad=2)\n",
    "\n",
    "ax = subplot(2, 3, 2)\n",
    "qqplot(z[1,:], color=\"grey\")\n",
    "qqplot(z[3,:])\n",
    "title(\"SparKLIE+1\", size=\"xx-small\")\n",
    "ax[:tick_params](\"both\", labelsize=\"xx-small\", length=2, pad=2)\n",
    "\n",
    "ax = subplot(2, 3, 3)\n",
    "qqplot(z[1,:], color=\"grey\")\n",
    "qqplot(z[4,:])\n",
    "title(\"SparKLIE+2\", size=\"xx-small\")\n",
    "ax[:tick_params](\"both\", labelsize=\"xx-small\", length=2, pad=2)\n",
    "\n",
    "ax = subplot(2, 3, 4)\n",
    "plt[:hist](z[2,:], 100, density=true)\n",
    "plot(x,y)\n",
    "xlim(-3.290,3.290)\n",
    "ax[:tick_params](\"both\", labelsize=\"xx-small\", length=2, pad=2)\n",
    "\n",
    "ax = subplot(2, 3, 5)\n",
    "plt[:hist](z[3,:], 100, density=true)\n",
    "plot(x,y)\n",
    "xlim(-3.290,3.290)\n",
    "ax[:tick_params](\"both\", labelsize=\"xx-small\", length=2, pad=2)\n",
    "\n",
    "ax = subplot(2, 3, 6)\n",
    "plt[:hist](z[4,:], 100, density=true)\n",
    "plot(x,y)\n",
    "xlim(-3.290,3.290)\n",
    "ax[:tick_params](\"both\", labelsize=\"xx-small\", length=2, pad=2)\n",
    "tight_layout()\n",
    "\n",
    "show(fig)\n",
    "\n",
    "savefig(\"/Users/byolkim/Documents/KLIEP_inference/draft/revision_v3/exper1_tree1_25.png\")\n",
    "close(fig)"
   ]
  },
  {
   "cell_type": "markdown",
   "metadata": {},
   "source": [
    "### Tree (2)"
   ]
  },
  {
   "cell_type": "code",
   "execution_count": 14,
   "metadata": {},
   "outputs": [
    {
     "name": "stdout",
     "output_type": "stream",
     "text": [
      "100 / 1000\n",
      "200 / 1000\n",
      "300 / 1000\n",
      "400 / 1000\n",
      "500 / 1000\n",
      "600 / 1000\n",
      "700 / 1000\n",
      "800 / 1000\n",
      "900 / 1000\n",
      "1000 / 1000\n"
     ]
    }
   ],
   "source": [
    "file = jldopen(\"/Users/byolkim/Documents/KLIEPInference.jl/exper/exper1/graphs/tree2_25.jld\", \"r\")\n",
    "idx = KLIEPInference.trimap(1,3)  #edge of interest\n",
    "b, z = experiment1(file, idx, 150, 300, 1000);"
   ]
  },
  {
   "cell_type": "code",
   "execution_count": 15,
   "metadata": {},
   "outputs": [
    {
     "name": "stdout",
     "output_type": "stream",
     "text": [
      "avg bias: [-0.012516278732856576; 0.04378068971477958; 0.012023583129567899; -0.007966158067718132]\n",
      "coverage: [0.974; 0.96; 0.954; 0.99]\n"
     ]
    }
   ],
   "source": [
    "println(\"avg bias: $(mean(b, dims=2))\")\n",
    "println(\"coverage: $(mean(abs.(z) .< quantile(Normal(), 0.975), dims=2))\")"
   ]
  },
  {
   "cell_type": "code",
   "execution_count": 16,
   "metadata": {},
   "outputs": [
    {
     "name": "stdout",
     "output_type": "stream",
     "text": [
      "Figure(PyObject <Figure size 1537.5x1153.2 with 6 Axes>)"
     ]
    }
   ],
   "source": [
    "x = range(-3.290, stop=3.290, length=100)\n",
    "y = pdf.(Normal(), x)\n",
    "\n",
    "fig = figure(figsize=(5.125,3.844), dpi=300)\n",
    "\n",
    "ax = subplot(2, 3, 1)\n",
    "qqplot(z[1,:], color=\"grey\")\n",
    "qqplot(z[2,:])\n",
    "title(\"naive re-fitting\", size=\"xx-small\")\n",
    "ax[:tick_params](\"both\", labelsize=\"xx-small\", length=2, pad=2)\n",
    "\n",
    "ax = subplot(2, 3, 2)\n",
    "qqplot(z[1,:], color=\"grey\")\n",
    "qqplot(z[3,:])\n",
    "title(\"SparKLIE+1\", size=\"xx-small\")\n",
    "ax[:tick_params](\"both\", labelsize=\"xx-small\", length=2, pad=2)\n",
    "\n",
    "ax = subplot(2, 3, 3)\n",
    "qqplot(z[1,:], color=\"grey\")\n",
    "qqplot(z[4,:])\n",
    "title(\"SparKLIE+2\", size=\"xx-small\")\n",
    "ax[:tick_params](\"both\", labelsize=\"xx-small\", length=2, pad=2)\n",
    "\n",
    "ax = subplot(2, 3, 4)\n",
    "plt[:hist](z[2,:], 100, density=true)\n",
    "plot(x,y)\n",
    "xlim(-3.290,3.290)\n",
    "ax[:tick_params](\"both\", labelsize=\"xx-small\", length=2, pad=2)\n",
    "\n",
    "ax = subplot(2, 3, 5)\n",
    "plt[:hist](z[3,:], 100, density=true)\n",
    "plot(x,y)\n",
    "xlim(-3.290,3.290)\n",
    "ax[:tick_params](\"both\", labelsize=\"xx-small\", length=2, pad=2)\n",
    "\n",
    "ax = subplot(2, 3, 6)\n",
    "plt[:hist](z[4,:], 100, density=true)\n",
    "plot(x,y)\n",
    "xlim(-3.290,3.290)\n",
    "ax[:tick_params](\"both\", labelsize=\"xx-small\", length=2, pad=2)\n",
    "tight_layout()\n",
    "\n",
    "show(fig)\n",
    "\n",
    "savefig(\"/Users/byolkim/Documents/KLIEP_inference/draft/revision_v3/exper1_tree2_25.png\")\n",
    "close(fig)"
   ]
  },
  {
   "cell_type": "markdown",
   "metadata": {},
   "source": [
    "## $m = 50$, $n_x = 300$, $n_y = 600$"
   ]
  },
  {
   "cell_type": "markdown",
   "metadata": {},
   "source": [
    "### Chain (1)"
   ]
  },
  {
   "cell_type": "code",
   "execution_count": 17,
   "metadata": {},
   "outputs": [
    {
     "name": "stdout",
     "output_type": "stream",
     "text": [
      "100 / 1000\n",
      "200 / 1000\n",
      "300 / 1000\n",
      "400 / 1000\n",
      "500 / 1000\n",
      "600 / 1000\n",
      "700 / 1000\n",
      "800 / 1000\n",
      "900 / 1000\n",
      "1000 / 1000\n"
     ]
    }
   ],
   "source": [
    "file = jldopen(\"/Users/byolkim/Documents/KLIEPInference.jl/exper/exper1/graphs/chain1_50.jld\", \"r\")\n",
    "idx = KLIEPInference.trimap(5,6)  #edge of interest\n",
    "b, z = experiment1(file, idx, 300, 600, 1000);"
   ]
  },
  {
   "cell_type": "code",
   "execution_count": 18,
   "metadata": {},
   "outputs": [
    {
     "name": "stdout",
     "output_type": "stream",
     "text": [
      "avg bias: [-0.001598659715388254; 0.07824713319031354; -0.022243522812742313; -0.015141925312805234]\n",
      "coverage: [0.961; 0.823; 0.957; 0.969]\n"
     ]
    }
   ],
   "source": [
    "println(\"avg bias: $(mean(b, dims=2))\")\n",
    "println(\"coverage: $(mean(abs.(z) .< quantile(Normal(), 0.975), dims=2))\")"
   ]
  },
  {
   "cell_type": "code",
   "execution_count": 19,
   "metadata": {},
   "outputs": [
    {
     "name": "stdout",
     "output_type": "stream",
     "text": [
      "Figure(PyObject <Figure size 1537.5x1153.2 with 6 Axes>)"
     ]
    }
   ],
   "source": [
    "x = range(-3.290, stop=3.290, length=100)\n",
    "y = pdf.(Normal(), x)\n",
    "\n",
    "fig = figure(figsize=(5.125,3.844), dpi=300)\n",
    "\n",
    "ax = subplot(2, 3, 1)\n",
    "qqplot(z[1,:], color=\"grey\")\n",
    "qqplot(z[2,:])\n",
    "title(\"naive re-fitting\", size=\"xx-small\")\n",
    "ax[:tick_params](\"both\", labelsize=\"xx-small\", length=2, pad=2)\n",
    "\n",
    "ax = subplot(2, 3, 2)\n",
    "qqplot(z[1,:], color=\"grey\")\n",
    "qqplot(z[3,:])\n",
    "title(\"SparKLIE+1\", size=\"xx-small\")\n",
    "ax[:tick_params](\"both\", labelsize=\"xx-small\", length=2, pad=2)\n",
    "\n",
    "ax = subplot(2, 3, 3)\n",
    "qqplot(z[1,:], color=\"grey\")\n",
    "qqplot(z[4,:])\n",
    "title(\"SparKLIE+2\", size=\"xx-small\")\n",
    "ax[:tick_params](\"both\", labelsize=\"xx-small\", length=2, pad=2)\n",
    "\n",
    "ax = subplot(2, 3, 4)\n",
    "plt[:hist](z[2,:], 100, density=true)\n",
    "plot(x,y)\n",
    "xlim(-3.290,3.290)\n",
    "ax[:tick_params](\"both\", labelsize=\"xx-small\", length=2, pad=2)\n",
    "\n",
    "ax = subplot(2, 3, 5)\n",
    "plt[:hist](z[3,:], 100, density=true)\n",
    "plot(x,y)\n",
    "xlim(-3.290,3.290)\n",
    "ax[:tick_params](\"both\", labelsize=\"xx-small\", length=2, pad=2)\n",
    "\n",
    "ax = subplot(2, 3, 6)\n",
    "plt[:hist](z[4,:], 100, density=true)\n",
    "plot(x,y)\n",
    "xlim(-3.290,3.290)\n",
    "ax[:tick_params](\"both\", labelsize=\"xx-small\", length=2, pad=2)\n",
    "tight_layout()\n",
    "\n",
    "show(fig)\n",
    "\n",
    "savefig(\"/Users/byolkim/Documents/KLIEP_inference/draft/revision_v3/exper1_chain1_50.png\")\n",
    "close(fig)"
   ]
  },
  {
   "cell_type": "markdown",
   "metadata": {},
   "source": [
    "### Chain (2)"
   ]
  },
  {
   "cell_type": "code",
   "execution_count": 20,
   "metadata": {},
   "outputs": [
    {
     "name": "stdout",
     "output_type": "stream",
     "text": [
      "100 / 1000\n",
      "200 / 1000\n",
      "300 / 1000\n",
      "400 / 1000\n",
      "500 / 1000\n",
      "600 / 1000\n",
      "700 / 1000\n",
      "800 / 1000\n",
      "900 / 1000\n",
      "1000 / 1000\n"
     ]
    }
   ],
   "source": [
    "file = jldopen(\"/Users/byolkim/Documents/KLIEPInference.jl/exper/exper1/graphs/chain2_50.jld\", \"r\")\n",
    "idx = KLIEPInference.trimap(5,6)  #edge of interest\n",
    "b, z = experiment1(file, idx, 300, 600, 1000);"
   ]
  },
  {
   "cell_type": "code",
   "execution_count": 21,
   "metadata": {},
   "outputs": [
    {
     "name": "stdout",
     "output_type": "stream",
     "text": [
      "avg bias: [0.0019267987094414311; 0.08070795003280348; 0.01855262611218014; -0.0008054816816843565]\n",
      "coverage: [0.958; 0.817; 0.949; 0.953]\n"
     ]
    }
   ],
   "source": [
    "println(\"avg bias: $(mean(b, dims=2))\")\n",
    "println(\"coverage: $(mean(abs.(z) .< quantile(Normal(), 0.975), dims=2))\")"
   ]
  },
  {
   "cell_type": "code",
   "execution_count": 22,
   "metadata": {},
   "outputs": [
    {
     "name": "stdout",
     "output_type": "stream",
     "text": [
      "Figure(PyObject <Figure size 1537.5x1153.2 with 6 Axes>)"
     ]
    }
   ],
   "source": [
    "x = range(-3.290, stop=3.290, length=100)\n",
    "y = pdf.(Normal(), x)\n",
    "\n",
    "fig = figure(figsize=(5.125,3.844), dpi=300)\n",
    "\n",
    "ax = subplot(2, 3, 1)\n",
    "qqplot(z[1,:], color=\"grey\")\n",
    "qqplot(z[2,:])\n",
    "title(\"naive re-fitting\", size=\"xx-small\")\n",
    "ax[:tick_params](\"both\", labelsize=\"xx-small\", length=2, pad=2)\n",
    "\n",
    "ax = subplot(2, 3, 2)\n",
    "qqplot(z[1,:], color=\"grey\")\n",
    "qqplot(z[3,:])\n",
    "title(\"SparKLIE+1\", size=\"xx-small\")\n",
    "ax[:tick_params](\"both\", labelsize=\"xx-small\", length=2, pad=2)\n",
    "\n",
    "ax = subplot(2, 3, 3)\n",
    "qqplot(z[1,:], color=\"grey\")\n",
    "qqplot(z[4,:])\n",
    "title(\"SparKLIE+2\", size=\"xx-small\")\n",
    "ax[:tick_params](\"both\", labelsize=\"xx-small\", length=2, pad=2)\n",
    "\n",
    "ax = subplot(2, 3, 4)\n",
    "plt[:hist](z[2,:], 100, density=true)\n",
    "plot(x,y)\n",
    "xlim(-3.290,3.290)\n",
    "ax[:tick_params](\"both\", labelsize=\"xx-small\", length=2, pad=2)\n",
    "\n",
    "ax = subplot(2, 3, 5)\n",
    "plt[:hist](z[3,:], 100, density=true)\n",
    "plot(x,y)\n",
    "xlim(-3.290,3.290)\n",
    "ax[:tick_params](\"both\", labelsize=\"xx-small\", length=2, pad=2)\n",
    "\n",
    "ax = subplot(2, 3, 6)\n",
    "plt[:hist](z[4,:], 100, density=true)\n",
    "plot(x,y)\n",
    "xlim(-3.290,3.290)\n",
    "ax[:tick_params](\"both\", labelsize=\"xx-small\", length=2, pad=2)\n",
    "tight_layout()\n",
    "\n",
    "show(fig)\n",
    "\n",
    "savefig(\"/Users/byolkim/Documents/KLIEP_inference/draft/revision_v3/exper1_chain2_50.png\")\n",
    "close(fig)"
   ]
  },
  {
   "cell_type": "markdown",
   "metadata": {},
   "source": [
    "### Tree (1)"
   ]
  },
  {
   "cell_type": "code",
   "execution_count": 23,
   "metadata": {},
   "outputs": [
    {
     "name": "stdout",
     "output_type": "stream",
     "text": [
      "100 / 1000\n",
      "200 / 1000\n",
      "300 / 1000\n",
      "400 / 1000\n",
      "500 / 1000\n",
      "600 / 1000\n",
      "700 / 1000\n",
      "800 / 1000\n",
      "900 / 1000\n",
      "1000 / 1000\n"
     ]
    }
   ],
   "source": [
    "file = jldopen(\"/Users/byolkim/Documents/KLIEPInference.jl/exper/exper1/graphs/tree1_50.jld\", \"r\")\n",
    "idx = KLIEPInference.trimap(1,3)  #edge of interest\n",
    "b, z = experiment1(file, idx, 300, 600, 1000);"
   ]
  },
  {
   "cell_type": "code",
   "execution_count": 24,
   "metadata": {},
   "outputs": [
    {
     "name": "stdout",
     "output_type": "stream",
     "text": [
      "avg bias: [-0.010455539919384027; 0.0779980265485224; -0.010693215292402055; -0.020413045983369616]\n",
      "coverage: [0.972; 0.913; 0.951; 0.978]\n"
     ]
    }
   ],
   "source": [
    "println(\"avg bias: $(mean(b, dims=2))\")\n",
    "println(\"coverage: $(mean(abs.(z) .< quantile(Normal(), 0.975), dims=2))\")"
   ]
  },
  {
   "cell_type": "code",
   "execution_count": 25,
   "metadata": {},
   "outputs": [
    {
     "name": "stdout",
     "output_type": "stream",
     "text": [
      "Figure(PyObject <Figure size 1537.5x1153.2 with 6 Axes>)"
     ]
    }
   ],
   "source": [
    "x = range(-3.290, stop=3.290, length=100)\n",
    "y = pdf.(Normal(), x)\n",
    "\n",
    "fig = figure(figsize=(5.125,3.844), dpi=300)\n",
    "\n",
    "ax = subplot(2, 3, 1)\n",
    "qqplot(z[1,:], color=\"grey\")\n",
    "qqplot(z[2,:])\n",
    "title(\"naive re-fitting\", size=\"xx-small\")\n",
    "ax[:tick_params](\"both\", labelsize=\"xx-small\", length=2, pad=2)\n",
    "\n",
    "ax = subplot(2, 3, 2)\n",
    "qqplot(z[1,:], color=\"grey\")\n",
    "qqplot(z[3,:])\n",
    "title(\"SparKLIE+1\", size=\"xx-small\")\n",
    "ax[:tick_params](\"both\", labelsize=\"xx-small\", length=2, pad=2)\n",
    "\n",
    "ax = subplot(2, 3, 3)\n",
    "qqplot(z[1,:], color=\"grey\")\n",
    "qqplot(z[4,:])\n",
    "title(\"SparKLIE+2\", size=\"xx-small\")\n",
    "ax[:tick_params](\"both\", labelsize=\"xx-small\", length=2, pad=2)\n",
    "\n",
    "ax = subplot(2, 3, 4)\n",
    "plt[:hist](z[2,:], 100, density=true)\n",
    "plot(x,y)\n",
    "xlim(-3.290,3.290)\n",
    "ax[:tick_params](\"both\", labelsize=\"xx-small\", length=2, pad=2)\n",
    "\n",
    "ax = subplot(2, 3, 5)\n",
    "plt[:hist](z[3,:], 100, density=true)\n",
    "plot(x,y)\n",
    "xlim(-3.290,3.290)\n",
    "ax[:tick_params](\"both\", labelsize=\"xx-small\", length=2, pad=2)\n",
    "\n",
    "ax = subplot(2, 3, 6)\n",
    "plt[:hist](z[4,:], 100, density=true)\n",
    "plot(x,y)\n",
    "xlim(-3.290,3.290)\n",
    "ax[:tick_params](\"both\", labelsize=\"xx-small\", length=2, pad=2)\n",
    "tight_layout()\n",
    "\n",
    "show(fig)\n",
    "\n",
    "savefig(\"/Users/byolkim/Documents/KLIEP_inference/draft/revision_v3/exper1_tree1_50.png\")\n",
    "close(fig)"
   ]
  },
  {
   "cell_type": "markdown",
   "metadata": {},
   "source": [
    "### Tree (2)"
   ]
  },
  {
   "cell_type": "code",
   "execution_count": 26,
   "metadata": {},
   "outputs": [
    {
     "name": "stdout",
     "output_type": "stream",
     "text": [
      "100 / 1000\n",
      "200 / 1000\n",
      "300 / 1000\n",
      "400 / 1000\n",
      "500 / 1000\n",
      "600 / 1000\n",
      "700 / 1000\n",
      "800 / 1000\n",
      "900 / 1000\n",
      "1000 / 1000\n"
     ]
    }
   ],
   "source": [
    "file = jldopen(\"/Users/byolkim/Documents/KLIEPInference.jl/exper/exper1/graphs/tree2_50.jld\", \"r\")\n",
    "idx = KLIEPInference.trimap(1,3)  #edge of interest\n",
    "b, z = experiment1(file, idx, 300, 600, 1000);"
   ]
  },
  {
   "cell_type": "code",
   "execution_count": 27,
   "metadata": {},
   "outputs": [
    {
     "name": "stdout",
     "output_type": "stream",
     "text": [
      "avg bias: [-0.0018140440077490188; 0.05426107433175982; 0.003722867497560637; -0.0038123635865270123]\n",
      "coverage: [0.968; 0.926; 0.949; 0.99]\n"
     ]
    }
   ],
   "source": [
    "println(\"avg bias: $(mean(b, dims=2))\")\n",
    "println(\"coverage: $(mean(abs.(z) .< quantile(Normal(), 0.975), dims=2))\")"
   ]
  },
  {
   "cell_type": "code",
   "execution_count": 28,
   "metadata": {},
   "outputs": [
    {
     "name": "stdout",
     "output_type": "stream",
     "text": [
      "Figure(PyObject <Figure size 1537.5x1153.2 with 6 Axes>)"
     ]
    }
   ],
   "source": [
    "x = range(-3.290, stop=3.290, length=100)\n",
    "y = pdf.(Normal(), x)\n",
    "\n",
    "fig = figure(figsize=(5.125,3.844), dpi=300)\n",
    "\n",
    "ax = subplot(2, 3, 1)\n",
    "qqplot(z[1,:], color=\"grey\")\n",
    "qqplot(z[2,:])\n",
    "title(\"naive re-fitting\", size=\"xx-small\")\n",
    "ax[:tick_params](\"both\", labelsize=\"xx-small\", length=2, pad=2)\n",
    "\n",
    "ax = subplot(2, 3, 2)\n",
    "qqplot(z[1,:], color=\"grey\")\n",
    "qqplot(z[3,:])\n",
    "title(\"SparKLIE+1\", size=\"xx-small\")\n",
    "ax[:tick_params](\"both\", labelsize=\"xx-small\", length=2, pad=2)\n",
    "\n",
    "ax = subplot(2, 3, 3)\n",
    "qqplot(z[1,:], color=\"grey\")\n",
    "qqplot(z[4,:])\n",
    "title(\"SparKLIE+2\", size=\"xx-small\")\n",
    "ax[:tick_params](\"both\", labelsize=\"xx-small\", length=2, pad=2)\n",
    "\n",
    "ax = subplot(2, 3, 4)\n",
    "plt[:hist](z[2,:], 100, density=true)\n",
    "plot(x,y)\n",
    "xlim(-3.290,3.290)\n",
    "ax[:tick_params](\"both\", labelsize=\"xx-small\", length=2, pad=2)\n",
    "\n",
    "ax = subplot(2, 3, 5)\n",
    "plt[:hist](z[3,:], 100, density=true)\n",
    "plot(x,y)\n",
    "xlim(-3.290,3.290)\n",
    "ax[:tick_params](\"both\", labelsize=\"xx-small\", length=2, pad=2)\n",
    "\n",
    "ax = subplot(2, 3, 6)\n",
    "plt[:hist](z[4,:], 100, density=true)\n",
    "plot(x,y)\n",
    "xlim(-3.290,3.290)\n",
    "ax[:tick_params](\"both\", labelsize=\"xx-small\", length=2, pad=2)\n",
    "tight_layout()\n",
    "\n",
    "show(fig)\n",
    "\n",
    "savefig(\"/Users/byolkim/Documents/KLIEP_inference/draft/revision_v3/exper1_tree2_50.png\")\n",
    "close(fig)"
   ]
  }
 ],
 "metadata": {
  "kernelspec": {
   "display_name": "JuliaPro_v1.5.3-1 1.5.3",
   "language": "julia",
   "name": "juliapro_v1.5.3-1-1.5"
  },
  "language_info": {
   "file_extension": ".jl",
   "mimetype": "application/julia",
   "name": "julia",
   "version": "1.5.3"
  }
 },
 "nbformat": 4,
 "nbformat_minor": 2
}
